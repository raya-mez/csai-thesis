{
 "cells": [
  {
   "cell_type": "markdown",
   "metadata": {},
   "source": [
    "# <b>RQ4: Is the correlation observed when using different methods of calculating cosine distances?</b>"
   ]
  },
  {
   "cell_type": "code",
   "execution_count": 3,
   "metadata": {},
   "outputs": [],
   "source": [
    "import os\n",
    "import numpy as np\n",
    "import matplotlib.pyplot as plt\n",
    "from config import Globals\n",
    "import preprocess_funcs\n",
    "import distance_funcs"
   ]
  },
  {
   "cell_type": "code",
   "execution_count": 2,
   "metadata": {},
   "outputs": [],
   "source": [
    "os.chdir(\"c:/Users/Raya/OneDrive/Documents/3-CSAI/CSAI-Y3-S2/Thesis/Replication\")"
   ]
  },
  {
   "cell_type": "markdown",
   "metadata": {},
   "source": [
    "<u>Method</u>: Perform the test using a Jaccard-based distance using unigrams and adjacent bigrams."
   ]
  },
  {
   "cell_type": "code",
   "execution_count": 4,
   "metadata": {},
   "outputs": [],
   "source": [
    "globals = Globals()"
   ]
  },
  {
   "cell_type": "code",
   "execution_count": 39,
   "metadata": {},
   "outputs": [
    {
     "name": "stdout",
     "output_type": "stream",
     "text": [
      "{'r', 'p', 'ar', 'a', 'ea', 'pe', 'e'}\n",
      "0.5454545454545454\n"
     ]
    }
   ],
   "source": [
    "def get_unigrams_bigrams(s):\n",
    "    \"\"\"Return a set of unigrams and adjacent bigrams from a string.\"\"\"\n",
    "    unigrams = set(s)\n",
    "    bigrams = set(s[i:i+2] for i in range(len(s) - 1))\n",
    "    # Combine unigrams and bigrams\n",
    "    return unigrams.union(bigrams)\n",
    "\n",
    "def jaccard_distance(s1, s2):\n",
    "    \"\"\"Calculate the Jaccard distance between two strings using unigrams and adjacent bigrams.\"\"\"\n",
    "    # Get the combined set of unigrams and bigrams for each string\n",
    "    set1 = get_unigrams_bigrams(s1)\n",
    "    set2 = get_unigrams_bigrams(s2)\n",
    "    \n",
    "    # Calculate the intersection and union of the two sets\n",
    "    intersection = set1.intersection(set2)\n",
    "    union = set1.union(set2)\n",
    "    \n",
    "    # Calculate Jaccard similarity\n",
    "    jaccard_similarity = len(intersection) / len(union)\n",
    "    \n",
    "    # Calculate Jaccard distance\n",
    "    jaccard_distance = 1 - jaccard_similarity\n",
    "    \n",
    "    return jaccard_distance\n",
    "\n",
    "s1 = 'pear'\n",
    "s2 = 'clear'\n",
    "print(get_unigrams_bigrams(s1))\n",
    "print(jaccard_distance(s2, s1))"
   ]
  },
  {
   "cell_type": "code",
   "execution_count": 40,
   "metadata": {},
   "outputs": [
    {
     "data": {
      "text/plain": [
       "array([[0.        , 0.33333333, 0.93333333, 1.        , 0.9       ],\n",
       "       [0.33333333, 0.        , 0.94444444, 1.        , 0.92307692],\n",
       "       [0.93333333, 0.94444444, 0.        , 0.92857143, 0.92857143],\n",
       "       [1.        , 1.        , 0.92857143, 0.        , 0.75      ],\n",
       "       [0.9       , 0.92307692, 0.92857143, 0.75      , 0.        ]])"
      ]
     },
     "execution_count": 40,
     "metadata": {},
     "output_type": "execute_result"
    }
   ],
   "source": [
    "def jaccard_distances_matrix(word_list):\n",
    "    num_words = len(word_list)\n",
    "    \n",
    "    # Initialize the edit distances matrix\n",
    "    distances_matrix = np.zeros((num_words, num_words))\n",
    "    \n",
    "    # Compute jaccard distances for each pair of words where i < j\n",
    "    for i in range(num_words):\n",
    "        for j in range(i+1, num_words):\n",
    "            # Calculate jaccard distance between word i and word j\n",
    "            distance = jaccard_distance(word_list[i], word_list[j])\n",
    "            # Fill both distances_matrix[i, j] and distances_matrix[j, i] with the calculated distance \n",
    "            distances_matrix[i, j] = distance\n",
    "            distances_matrix[j, i] = distance\n",
    "    \n",
    "    return distances_matrix\n",
    "\n",
    "word_list = ['banana', 'bandana', 'league', 'cup', 'cap']\n",
    "jaccard_distances_matrix(word_list)"
   ]
  }
 ],
 "metadata": {
  "kernelspec": {
   "display_name": "Python 3",
   "language": "python",
   "name": "python3"
  },
  "language_info": {
   "codemirror_mode": {
    "name": "ipython",
    "version": 3
   },
   "file_extension": ".py",
   "mimetype": "text/x-python",
   "name": "python",
   "nbconvert_exporter": "python",
   "pygments_lexer": "ipython3",
   "version": "3.9.7"
  }
 },
 "nbformat": 4,
 "nbformat_minor": 2
}
