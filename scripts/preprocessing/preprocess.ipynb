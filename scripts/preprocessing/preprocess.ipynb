{
 "cells": [
  {
   "cell_type": "code",
   "execution_count": 1,
   "metadata": {},
   "outputs": [],
   "source": [
    "import os\n",
    "import bz2\n",
    "import random\n",
    "import pickle as pkl"
   ]
  },
  {
   "cell_type": "code",
   "execution_count": 2,
   "metadata": {},
   "outputs": [],
   "source": [
    "os.chdir(os.path.join(r\"C:\\Users\\Raya\\OneDrive\\Documents\\3-CSAI\\CSAI-Y3-S2\\Thesis\\csai-thesis\"))"
   ]
  },
  {
   "cell_type": "code",
   "execution_count": 3,
   "metadata": {},
   "outputs": [],
   "source": [
    "# Constants\n",
    "\n",
    "random.seed(10)\n",
    "\n",
    "# Word ids\n",
    "wordids_compressed = os.path.join(\"models\", \"wiki_wordids.txt.bz2\")\n",
    "wordids_decompressed = os.path.join(\"models\", \"wordids.txt\")\n",
    "\n",
    "# Vocabularies\n",
    "vocab_file = os.path.join('data', 'vocab.pkl')\n",
    "vocab_controlled_file = os.path.join('data', 'vocab_controlled.pkl')\n",
    "\n",
    "# Words to inspect\n",
    "sorted_ids_by_freq_file = os.path.join(\"data\", \"sorted_ids.txt\")\n",
    "selected_words_file = os.path.join(\"data\", \"200_words.txt\")\n",
    "controlled_selected_words_file = os.path.join(\"data\", \"200_words_controlled.txt\")\n",
    "\n",
    "# Celex dictionary\n",
    "celex_file = os.path.join('data', 'celex_dict.pkl')\n",
    "\n",
    "# Output files\n",
    "id2word_file = os.path.join('models', 'id2word_dict.pkl')\n",
    "words_inspection_results_file = os.path.join('data', 'words_inspection_results.txt')\n",
    "ids_by_wordlength_file = os.path.join('data', 'ids_by_wordlength.pkl')\n",
    "ids_by_wordlength_controlled_file = os.path.join('data', 'ids_by_wordlength_controlled.pkl')"
   ]
  },
  {
   "cell_type": "code",
   "execution_count": 4,
   "metadata": {},
   "outputs": [],
   "source": [
    "# # Save a decompressed version of the wordids file\n",
    "# with bz2.open(wordids_compressed, 'rb') as f_in, open(wordids_decompressed, 'wb') as f_out:\n",
    "#     f_out.write(f_in.read())"
   ]
  },
  {
   "cell_type": "code",
   "execution_count": 5,
   "metadata": {},
   "outputs": [
    {
     "name": "stdout",
     "output_type": "stream",
     "text": [
      "The contents of the wordids file look like this:\n",
      "5545283\n",
      "7801\taa\t25827\n",
      "1740\taaron\t55355\n",
      "9301\tab\t31240\n",
      "7014\tabandon\t26896\n",
      "1912\tabandoned\t124225\n",
      "9654\ta\n",
      "The id2word dictionary looks like this:\n",
      "7801 : aa\n",
      "1740 : aaron\n",
      "9301 : ab\n",
      "7014 : abandon\n",
      "1912 : abandoned\n",
      "9654 : abbey\n",
      "9848 : abbot\n",
      "9958 : abbott\n",
      "6070 : abbreviated\n",
      "1913 : abc\n"
     ]
    }
   ],
   "source": [
    "# Creating an id2word dictionary from the compressed file (directly)\n",
    "id2word_dict = {}\n",
    "\n",
    "# Preview the file contents\n",
    "with bz2.open(wordids_compressed, 'rt', encoding='utf-8') as f:\n",
    "    contents = f.read()\n",
    "    print(\"The contents of the wordids file look like this:\")\n",
    "    print(contents[:100])\n",
    "\n",
    "# Extract words and corresponding IDs\n",
    "with bz2.open(wordids_compressed, 'rt', encoding='utf-8') as f:    \n",
    "    first_line = True\n",
    "    for line in f:\n",
    "        if first_line:\n",
    "            first_line = False\n",
    "            continue  # Skip the first line\n",
    "        id, word, _ = line.split() # Split the line into components\n",
    "        id2word_dict[id] = word\n",
    "\n",
    "print(f\"The id2word dictionary looks like this:\")\n",
    "for i, (id, word) in enumerate(list(id2word_dict.items())[:10]):\n",
    "    print(f\"{id} : {word}\")"
   ]
  },
  {
   "cell_type": "code",
   "execution_count": 6,
   "metadata": {},
   "outputs": [
    {
     "name": "stdout",
     "output_type": "stream",
     "text": [
      "id2word_dict (saved) contains 100000 items. The first 10 are:\n",
      "16004 : aa\n",
      "12579 : aaa\n",
      "63127 : aaaa\n",
      "80933 : aaas\n",
      "54701 : aab\n",
      "20022 : aac\n",
      "30535 : aachen\n",
      "96694 : aacsb\n",
      "84104 : aacta\n",
      "54859 : aad\n"
     ]
    }
   ],
   "source": [
    "# # Save the id2word dictionary for later use\n",
    "# with open(id2word_file, 'wb') as f:\n",
    "#     pkl.dump(id2word_dict, f)\n",
    "\n",
    "with open(id2word_file, 'rb') as f:\n",
    "    id2word_dict_check = pkl.load(f)\n",
    "\n",
    "print(f\"id2word_dict (saved) contains {len(id2word_dict_check)} items. The first 10 are:\")\n",
    "for i, (id, word) in enumerate(list(id2word_dict_check.items())[:10]):\n",
    "    print(f\"{id} : {word}\")"
   ]
  },
  {
   "cell_type": "markdown",
   "metadata": {},
   "source": [
    "# Select words for inspection"
   ]
  },
  {
   "cell_type": "code",
   "execution_count": 7,
   "metadata": {},
   "outputs": [
    {
     "name": "stdout",
     "output_type": "stream",
     "text": [
      "Total number of ids: 10000\n",
      "10 most frequent ids: ['2554', '3207', '2986', '2364', '3005', '7749', '187', '3734', '819', '1777']\n"
     ]
    }
   ],
   "source": [
    "with open(sorted_ids_by_freq_file, 'r') as f:\n",
    "    sorted_ids = [line.split(',')[0] for line in f.readlines()]\n",
    "print(f\"Total number of ids: {len(sorted_ids)}\")\n",
    "print(f\"10 most frequent ids: {sorted_ids[:10]}\")"
   ]
  },
  {
   "cell_type": "code",
   "execution_count": 8,
   "metadata": {},
   "outputs": [
    {
     "name": "stdout",
     "output_type": "stream",
     "text": [
      "Vocabulary (raw) size: 5000\n",
      "Monomorphemic lemmas in CELEX: 12546\n",
      "Vocabulary (controlled) size: 1902\n"
     ]
    }
   ],
   "source": [
    "# Create a dictionary containing the 5000 most frequent words keyed by their IDs\n",
    "most_freq_ids_5000 = []\n",
    "counter = 0\n",
    "for id in sorted_ids:\n",
    "    if counter == 5000:\n",
    "        break\n",
    "    # Add the id-word pair to the vocabulary if it is part of the 10,000 filtered words collected in id2word_dict\n",
    "    if id in id2word_dict:\n",
    "        most_freq_ids_5000.append(id)\n",
    "        counter += 1\n",
    "vocab = {id:id2word_dict[id] for id in most_freq_ids_5000}\n",
    "\n",
    "print(f\"Vocabulary (raw) size: {len(vocab)}\")\n",
    "\n",
    "# Store the vocabulary in a pickle file for easy access\n",
    "with open(vocab_file, 'wb') as f:\n",
    "    pkl.dump(vocab, f)\n",
    "\n",
    "\n",
    "### Repeat, controlling for morphological status of words in the vocabulary ###\n",
    "# ---------- Load the CELEX dictionary ----------\n",
    "with open(celex_file, 'rb') as f:\n",
    "    celex_dict = pkl.load(f)\n",
    "\n",
    "# Extract all wordforms which are monomorphemic lemmas from the CELEX dictionary\n",
    "celex_monomorph_lemmas = []\n",
    "for item in celex_dict:\n",
    "    if celex_dict[item]['morphstatus'] == 'M' and celex_dict[item]['lemma'] == celex_dict[item]['worddia']:\n",
    "        celex_monomorph_lemmas.append(celex_dict[item]['worddia'])\n",
    "print(f\"Monomorphemic lemmas in CELEX: {len(celex_monomorph_lemmas)}\")\n",
    "\n",
    "\n",
    "# ---------- Create a vocabulary with the 5000 most frequent monomorphemic wordforms which are lemmas ----------\n",
    "# Create a dictionary containing the 5000 most frequent monomorphemic words keyed by their IDs\n",
    "most_freq_monomorph_ids_10000 = [] # NOTE: changed to 10,000 from 5,000 because too few words are monomorphemic\n",
    "counter = 0\n",
    "for id in sorted_ids:\n",
    "    if counter == 5000:\n",
    "        break\n",
    "    # Check if the word is monomorphemic according to CELEX, ensuring that it is also in the 10,000 selected words\n",
    "    if id in id2word_dict and id2word_dict[id] in celex_monomorph_lemmas:\n",
    "        most_freq_monomorph_ids_10000.append(id)\n",
    "        counter += 1\n",
    "controlled_vocab = {id:id2word_dict[id] for id in most_freq_monomorph_ids_10000}\n",
    "print(f\"Vocabulary (controlled) size: {len(controlled_vocab)}\")\n",
    "\n",
    "# Store the vocabulary in a pickle file for easy access\n",
    "with open(vocab_controlled_file, 'wb') as f:\n",
    "    pkl.dump(controlled_vocab, f)\n",
    "\n",
    "# ---------- Select 200 word types for inspection from each vocabulary ----------\n",
    "def select_word_types_for_inspection(sorted_word_ids, vocab, output_file):\n",
    "    \"\"\"\n",
    "    Select 200 word types for inspection and write them to a file.\n",
    "    \n",
    "    Args:\n",
    "        sorted_word_ids (list): List of word IDs to select from, sorted by frequency (from most frequent to least frequent).\n",
    "        id2word_dict (dict): Dictionary mapping IDs to words.\n",
    "        output_file (str): Path to the output file.\n",
    "    \"\"\"\n",
    "    with open(output_file, 'w') as f:\n",
    "        # Extract the 100 most frequent word IDs\n",
    "        most_freq_ids_100 = sorted_word_ids[:100]\n",
    "        for word_id in most_freq_ids_100:\n",
    "            word = id2word_dict[word_id]\n",
    "            f.write(f\"{word}\\n\")\n",
    "        \n",
    "        # Extract 100 other IDs randomly\n",
    "        random_word_ids = list(set(vocab) - set(most_freq_ids_100))\n",
    "        for _ in range(100):\n",
    "            random_id = random.choice(random_word_ids)\n",
    "            word = id2word_dict[random_id]\n",
    "            f.write(f\"{word}\\n\")\n",
    "\n",
    "# Usage for non-filtered vocabulary\n",
    "select_word_types_for_inspection(most_freq_ids_5000, vocab, selected_words_file)\n",
    "\n",
    "# Usage for controlled vocabulary\n",
    "select_word_types_for_inspection(most_freq_monomorph_ids_10000, controlled_vocab, controlled_selected_words_file)\n"
   ]
  },
  {
   "cell_type": "code",
   "execution_count": 9,
   "metadata": {},
   "outputs": [
    {
     "name": "stdout",
     "output_type": "stream",
     "text": [
      "5000\n",
      "1902\n"
     ]
    }
   ],
   "source": [
    "# Sanity check\n",
    "\n",
    "with open(vocab_file, 'rb') as f:\n",
    "    vocab = pkl.load(f, encoding='utf-8')\n",
    "print(len(vocab))\n",
    "\n",
    "with open(vocab_controlled_file, 'rb') as f:\n",
    "    vocab_controlled = pkl.load(f, encoding='utf-8')\n",
    "print(len(vocab_controlled))"
   ]
  },
  {
   "cell_type": "markdown",
   "metadata": {},
   "source": [
    "# Inspect words"
   ]
  },
  {
   "cell_type": "code",
   "execution_count": 10,
   "metadata": {},
   "outputs": [
    {
     "name": "stdout",
     "output_type": "stream",
     "text": [
      "200\n",
      "['league', 'album', 'species', 'football', 'station', 'village', 'church', 'song', 'party', 'cup', 'population', 'town', 'game', 'women', 'river', 'election', 'player', 'band', 'games', 'la', 'division', 'championship', 'award', 'park', 'building', 'round', 'president', 'road', 'art', 'french', 'jpg', 'german', 'line', 'goals', 'book', 'railway', 'london', 'island', 'director', 'men', 'council', 'chart', 'track', 'elected', 'india', 'census', 'education', 'professional', 'championships', 'television', 'king', 'awards', 'coach', 'tournament', 'law', 'museum', 'al', 'region', 'william', 'research', 'australia', 'community', 'you', 'px', 'army', 'genus', 'minister', 'file', 'show', 'play', 'street', 'record', 'center', 'historic', 'australian', 'tv', 'lake', 'km', 'head', 'site', 'municipality', 'white', 'politician', 'father', 'san', 'indian', 'married', 'france', 'medal', 'union', 'episode', 'court', 'black', 'works', 'western', 'debut', 'radio', 'england', 'department', 'air', 'typical', 'coming', 'older', 'contribution', 'ian', 'failure', 'eleven', 'guest', 'footage', 'provincial', 'come', 'plays', 'constituency', 'meanwhile', 'concern', 'bonus', 'nominations', 'advisory', 'somerset', 'canon', 'archbishop', 'here', 'printed', 'riding', 'shell', 'match', 'shortly', 'diploma', 'interviews', 'subject', 'flute', 'statistics', 'enzyme', 'betty', 'cox', 'liverpool', 'solar', 'worldwide', 'dutch', 'christ', 'parliament', 'jeff', 'heaven', 'fans', 'feet', 'got', 'hill', 'beauty', 'sur', 'publications', 'ncaa', 'indonesia', 'berkeley', 'renamed', 'nationalist', 'rare', 'wrestling', 'passes', 'scholars', 'courts', 'application', 'cricket', 're', 'sound', 'alberto', 'tree', 'nazi', 'regularly', 'ranking', 'tree', 'oral', 'wildlife', 'considered', 'map', 'lisa', 'orders', 'visited', 'ernest', 'apps', 'bengal', 'farms', 'cathedral', 'vienna', 'library', 'animated', 'pirates', 'recipient', 'inscription', 'distributed', 'ratio', 'metal', 'madrid', 'poor', 'media', 'pale', 'intermediate', 'bible', 'dragons', 'die', 'bennett']\n"
     ]
    }
   ],
   "source": [
    "# Load the words\n",
    "with open(selected_words_file, 'r') as f:\n",
    "    words_to_inspect = [word.strip() for word in f.readlines()]\n",
    "\n",
    "total_words = len(words_to_inspect)\n",
    "print(total_words)\n",
    "print(words_to_inspect)"
   ]
  },
  {
   "cell_type": "markdown",
   "metadata": {},
   "source": [
    "## Using nltk"
   ]
  },
  {
   "cell_type": "code",
   "execution_count": 11,
   "metadata": {},
   "outputs": [],
   "source": [
    "import nltk\n",
    "# Ensure the 'words' corpus is downloaded\n",
    "# nltk.download('words')\n",
    "from nltk.corpus import words"
   ]
  },
  {
   "cell_type": "code",
   "execution_count": 12,
   "metadata": {},
   "outputs": [
    {
     "name": "stdout",
     "output_type": "stream",
     "text": [
      "Ratio of invalid over valid English words (based on nltk.corpus.words): 52/200=0.26\n",
      "\n",
      "['women', 'games', 'french', 'jpg', 'goals', 'london', 'elected', 'india', 'championships', 'awards', 'william', 'australia', 'px', 'australian', 'tv', 'km', 'indian', 'france', 'england', 'ian', 'plays', 'nominations', 'interviews', 'liverpool', 'worldwide', 'christ', 'fans', 'feet', 'publications', 'ncaa', 'indonesia', 'berkeley', 'renamed', 'passes', 'scholars', 'courts', 'alberto', 'nazi', 'ranking', 'lisa', 'orders', 'visited', 'ernest', 'apps', 'bengal', 'farms', 'vienna', 'pirates', 'madrid', 'bible', 'dragons', 'bennett']\n"
     ]
    }
   ],
   "source": [
    "# Access the word list from the nltk 'words' corpus\n",
    "word_list = words.words('en')\n",
    "invalid_words_nltk = [] # List to store invalid words found in the selected sample\n",
    "\n",
    "for word in words_to_inspect:\n",
    "    if word not in word_list:\n",
    "        invalid_words_nltk.append(word)\n",
    "\n",
    "# Calculate ratio of invalid words to total words\n",
    "ratio = len(invalid_words_nltk) / len(words_to_inspect)\n",
    "\n",
    "print(f\"Ratio of invalid over valid English words (based on nltk.corpus.words): {len(invalid_words_nltk)}/{total_words}={ratio}\\n\")\n",
    "print(invalid_words_nltk)\n",
    "\n",
    "# NOTE: many valid words are classified as invalid. We need a larger word list or we will resort to manual inspection."
   ]
  },
  {
   "cell_type": "markdown",
   "metadata": {},
   "source": [
    "## Using pyenchant"
   ]
  },
  {
   "cell_type": "code",
   "execution_count": 13,
   "metadata": {},
   "outputs": [
    {
     "name": "stdout",
     "output_type": "stream",
     "text": [
      "Ratio of invalid over valid English words (based on pyenchant): 29/200=0.26\n",
      "\n",
      "['jpg', 'london', 'india', 'william', 'australia', 'px', 'australian', 'tv', 'san', 'indian', 'france', 'england', 'ian', 'betty', 'liverpool', 'christ', 'jeff', 'sur', 'ncaa', 'indonesia', 'berkeley', 'alberto', 'nazi', 'lisa', 'ernest', 'bengal', 'vienna', 'madrid', 'bennett']\n"
     ]
    }
   ],
   "source": [
    "import enchant\n",
    "\n",
    "english_dict = enchant.Dict(\"en_US\")\n",
    "invalid_words_enchant = []\n",
    "\n",
    "for word in words_to_inspect:\n",
    "    if not english_dict.check(word):\n",
    "        invalid_words_enchant.append(word)\n",
    "\n",
    "print(f\"Ratio of invalid over valid English words (based on pyenchant): {len(invalid_words_enchant)}/{total_words}={ratio}\\n\")\n",
    "print(invalid_words_enchant)\n",
    "\n",
    "# NOTE: We see that most of the words classified as invalid are names and abbreviations\n",
    "# The other words are: 'tri' and 'une'"
   ]
  },
  {
   "cell_type": "markdown",
   "metadata": {},
   "source": [
    "## Using CELEX - for morphological status"
   ]
  },
  {
   "cell_type": "code",
   "execution_count": 14,
   "metadata": {},
   "outputs": [
    {
     "name": "stdout",
     "output_type": "stream",
     "text": [
      "Loaded CELEX dictionary with 160595 entries\n",
      "It contains 28641 monomorphemic and 131954 non-monomorphemic words\n",
      "--- File: data\\200_words.txt ---\n",
      "200 selected word types: ['league', 'album', 'species', 'football', 'station', 'village', 'church', 'song', 'party', 'cup', 'population', 'town', 'game', 'women', 'river', 'election', 'player', 'band', 'games', 'la', 'division', 'championship', 'award', 'park', 'building', 'round', 'president', 'road', 'art', 'french', 'jpg', 'german', 'line', 'goals', 'book', 'railway', 'london', 'island', 'director', 'men', 'council', 'chart', 'track', 'elected', 'india', 'census', 'education', 'professional', 'championships', 'television', 'king', 'awards', 'coach', 'tournament', 'law', 'museum', 'al', 'region', 'william', 'research', 'australia', 'community', 'you', 'px', 'army', 'genus', 'minister', 'file', 'show', 'play', 'street', 'record', 'center', 'historic', 'australian', 'tv', 'lake', 'km', 'head', 'site', 'municipality', 'white', 'politician', 'father', 'san', 'indian', 'married', 'france', 'medal', 'union', 'episode', 'court', 'black', 'works', 'western', 'debut', 'radio', 'england', 'department', 'air', 'typical', 'coming', 'older', 'contribution', 'ian', 'failure', 'eleven', 'guest', 'footage', 'provincial', 'come', 'plays', 'constituency', 'meanwhile', 'concern', 'bonus', 'nominations', 'advisory', 'somerset', 'canon', 'archbishop', 'here', 'printed', 'riding', 'shell', 'match', 'shortly', 'diploma', 'interviews', 'subject', 'flute', 'statistics', 'enzyme', 'betty', 'cox', 'liverpool', 'solar', 'worldwide', 'dutch', 'christ', 'parliament', 'jeff', 'heaven', 'fans', 'feet', 'got', 'hill', 'beauty', 'sur', 'publications', 'ncaa', 'indonesia', 'berkeley', 'renamed', 'nationalist', 'rare', 'wrestling', 'passes', 'scholars', 'courts', 'application', 'cricket', 're', 'sound', 'alberto', 'tree', 'nazi', 'regularly', 'ranking', 'tree', 'oral', 'wildlife', 'considered', 'map', 'lisa', 'orders', 'visited', 'ernest', 'apps', 'bengal', 'farms', 'cathedral', 'vienna', 'library', 'animated', 'pirates', 'recipient', 'inscription', 'distributed', 'ratio', 'metal', 'madrid', 'poor', 'media', 'pale', 'intermediate', 'bible', 'dragons', 'die', 'bennett']\n",
      "50 of selected frequent words are monomorphemic\n",
      "49 of randomly selected words are monomorphemic\n",
      "36 of selected frequent words are non-monomorphemic\n",
      "32 of randomly selected words are non-monomorphemic\n",
      "33 word not found in the CELEX database: ['jpg', 'london', 'india', 'al', 'william', 'australia', 'px', 'center', 'australian', 'tv', 'km', 'san', 'indian', 'france', 'england', 'ian', 'somerset', 'betty', 'liverpool', 'christ', 'jeff', 'sur', 'ncaa', 'indonesia', 'berkeley', 'alberto', 'lisa', 'ernest', 'apps', 'bengal', 'vienna', 'madrid', 'bennett']\n",
      "--- File: data\\200_words_controlled.txt ---\n",
      "200 selected word types: ['league', 'species', 'village', 'church', 'song', 'party', 'cup', 'town', 'game', 'band', 'la', 'park', 'round', 'road', 'art', 'line', 'book', 'council', 'chart', 'track', 'census', 'king', 'coach', 'law', 'you', 'genus', 'minister', 'file', 'show', 'play', 'street', 'lake', 'head', 'site', 'white', 'medal', 'court', 'black', 'debut', 'radio', 'air', 'role', 'class', 'us', 'province', 'system', 'love', 'event', 'video', 'japan', 'hall', 'man', 'science', 'win', 'match', 'land', 'rock', 'young', 'guitar', 'saint', 'short', 'red', 'institute', 'china', 'tour', 'race', 'live', 'field', 'centre', 'cast', 'open', 'rank', 'board', 'sea', 'gold', 'wife', 'press', 'chief', 'route', 'novel', 'stage', 'level', 'theatre', 'star', 'project', 'my', 'date', 'senior', 'brown', 'post', 'right', 'parliament', 'van', 'rugby', 'form', 'bishop', 'battle', 'mountain', 'studio', 'period', 'drought', 'rebel', 'statistics', 'bias', 'keen', 'pot', 'draft', 'script', 'hotel', 'specimen', 'vault', 'turn', 'target', 'belt', 'hub', 'crisis', 'machine', 'grove', 'tax', 'fortune', 'trunk', 'threat', 'bid', 'private', 'hope', 'tang', 'kill', 'tan', 'skill', 'consul', 'smoke', 'pulse', 'dove', 'brass', 'whether', 'verdict', 'bag', 'gang', 'neck', 'uncle', 'achieve', 'woo', 'technique', 'marsh', 'secret', 'weight', 'hook', 'charlotte', 'mount', 'motto', 'risk', 'mo', 'joy', 'bread', 'thought', 'promise', 'knight', 'chi', 'truck', 'ghost', 'diamond', 'page', 'glen', 'bullet', 'carbon', 'charm', 'toy', 'green', 'auto', 'convent', 'wound', 'cook', 'spirit', 'cable', 'stole', 'griffin', 'aria', 'shape', 'fountain', 'cinema', 'haven', 'lot', 'common', 'path', 'robot', 'nose', 'narrow', 'price', 'intact', 'theft', 'brush', 'night', 'dame', 'guru', 'bed', 'pope', 'garrison', 'shark', 'trouble', 'decree']\n",
      "101 of selected frequent words are monomorphemic\n",
      "99 of randomly selected words are monomorphemic\n",
      "0 of selected frequent words are non-monomorphemic\n",
      "0 of randomly selected words are non-monomorphemic\n",
      "0 word not found in the CELEX database: []\n"
     ]
    }
   ],
   "source": [
    "# Load the CELEX-based dictionary with word information\n",
    "with open(celex_file, 'rb') as f:\n",
    "    celex_dict = pkl.load(f)\n",
    "print(f\"Loaded CELEX dictionary with {len(celex_dict)} entries\") \n",
    "\n",
    "# Extract all monomorphemic and non-monomorphemic words from the CELEX dictionary\n",
    "celex_monomorph = []\n",
    "celex_nonmonomorph = []\n",
    "for word in celex_dict:\n",
    "    # Check if the word is a monomorphemic ('morphstatus':'M') \n",
    "    if celex_dict[word]['morphstatus'] == 'M':\n",
    "        celex_monomorph.append(celex_dict[word]['worddia'])\n",
    "    else:\n",
    "        celex_nonmonomorph.append(celex_dict[word]['worddia'])\n",
    "print(f\"It contains {len(celex_monomorph)} monomorphemic and {len(celex_nonmonomorph)} non-monomorphemic words\")\n",
    "\n",
    "\n",
    "for selected_words_f in [selected_words_file, controlled_selected_words_file]:\n",
    "    print(f\"--- File: {selected_words_f} ---\")\n",
    "    \n",
    "    # Load the selected words for inspection\n",
    "    with open(selected_words_f) as f:\n",
    "        words = [word.strip() for word in f.readlines()]\n",
    "    print(f\"{len(words)} selected word types: {words}\")\n",
    "\n",
    "\n",
    "    # Define lists to classify the selected word types\n",
    "    selected_monomorph_freq = []\n",
    "    selected_monomorph_rd = []\n",
    "    selected_nonmonomorph_freq = []\n",
    "    selected_nonmonomorph_rd = []\n",
    "    oov = [] # not in celex\n",
    "\n",
    "    for i, word in enumerate(words):\n",
    "        if word in celex_monomorph or word.capitalize() in celex_monomorph:\n",
    "            if i < 101:\n",
    "                selected_monomorph_freq.append(word)\n",
    "            else:\n",
    "                selected_monomorph_rd.append(word)\n",
    "        elif word in celex_nonmonomorph or word.capitalize() in celex_monomorph:\n",
    "            if i < 101:\n",
    "                selected_nonmonomorph_freq.append(word)\n",
    "            else:\n",
    "                selected_nonmonomorph_rd.append(word)\n",
    "        else:\n",
    "            oov.append(word)\n",
    "\n",
    "    print(f\"{len(selected_monomorph_freq)} of selected frequent words are monomorphemic\")\n",
    "    print(f\"{len(selected_monomorph_rd)} of randomly selected words are monomorphemic\")\n",
    "\n",
    "    print(f\"{len(selected_nonmonomorph_freq)} of selected frequent words are non-monomorphemic\")\n",
    "    print(f\"{len(selected_nonmonomorph_rd)} of randomly selected words are non-monomorphemic\")\n",
    "\n",
    "    print(f\"{len(oov)} word not found in the CELEX database: {oov}\")"
   ]
  },
  {
   "cell_type": "markdown",
   "metadata": {},
   "source": [
    "# Group IDs by the length of the corresponding words"
   ]
  },
  {
   "cell_type": "code",
   "execution_count": 20,
   "metadata": {},
   "outputs": [
    {
     "name": "stdout",
     "output_type": "stream",
     "text": [
      "data\\vocab.pkl\n",
      "5000\n",
      "Length 3 (249): ['1777', '86', '3515', '706', '653', '3832', '3703', '1255', '2595', '1226', '2852', '1644', '3796', '763', '6442', '2013', '14', '1570', '994', '7012', '3540', '137', '2078', '309', '467', '3353', '2557', '572', '3158', '6920', '2256', '1458', '4954', '3052', '1721', '1505', '1757', '2457', '715', '2399', '1677', '3075', '4496', '7363', '2444', '1213', '3511', '1512', '802', '1558', '407', '6512', '2401', '885', '454', '3134', '9110', '666', '3366', '3272', '8002', '710', '5179', '641', '5231', '8180', '1151', '3659', '1003', '2039', '6494', '2062', '2518', '2480', '5075', '7815', '4971', '867', '5486', '3936', '5326', '8885', '5168', '2417', '2204', '9982', '1030', '1437', '5888', '7957', '7512', '2373', '699', '5470', '3533', '3906', '6862', '1670', '3332', '9666', '5785', '5544', '1241', '6610', '4913', '5636', '9138', '7695', '2096', '3372', '7584', '3221', '1658', '9097', '2918', '1543', '1826', '3044', '2733', '412', '2261', '1004', '9292', '682', '5454', '3227', '3468', '4380', '1913', '3620', '7289', '4379', '9152', '9021', '1733', '5483', '3443', '6713', '6318', '5862', '4805', '5980', '6632', '3334', '43', '7825', '5462', '8009', '1165', '7329', '664', '6010', '7192', '4952', '4541', '1298', '7850', '6928', '9438', '1289', '8909', '42', '2090', '7985', '9517', '3615', '8902', '6482', '9352', '8866', '8574', '765', '1937', '2664', '4239', '3872', '9960', '9911', '4565', '7805', '1986', '2002', '5906', '5631', '8933', '5478', '6107', '9649', '5701', '7402', '4296', '5225', '3136', '4883', '9479', '6407', '9401', '8884', '9571', '7204', '7034', '7067', '4435', '5176', '2024', '7078', '1808', '8192', '2388', '8696', '158', '7009', '3534', '3514', '7201', '9199', '7763', '5852', '9782', '9917', '9326', '5685', '8436', '4880', '7087', '9135', '9392', '8924', '44', '9967', '754', '9597', '1256', '9729', '5182', '9760', '9703', '6693', '5212', '2305', '5674', '1749', '9109', '8597', '7973', '5576', '9128', '9432', '9320']\n",
      "Length 4 (573): ['3734', '3089', '2386', '1281', '2725', '985', '676', '146', '2537', '82', '3421', '1039', '843', '2546', '1809', '1656', '987', '683', '2420', '646', '2908', '8523', '3081', '2820', '679', '2084', '784', '2831', '4192', '3816', '822', '90', '999', '3003', '2583', '1349', '858', '487', '3815', '501', '542', '1707', '2438', '118', '657', '1833', '1130', '2930', '161', '3588', '2382', '295', '761', '759', '1290', '2977', '3725', '687', '2352', '736', '143', '4784', '1279', '525', '1832', '3509', '1114', '2210', '1302', '418', '120', '3539', '5962', '781', '4725', '2025', '4094', '1185', '2841', '3628', '1899', '5034', '673', '521', '3552', '1710', '514', '4708', '4316', '2369', '2773', '2688', '3453', '1227', '1657', '484', '3538', '1347', '1221', '2434', '5238', '5491', '1021', '1200', '5239', '2738', '555', '3194', '3283', '3717', '2454', '1022', '2334', '668', '3631', '2671', '1219', '353', '3059', '1767', '3377', '3937', '3726', '2665', '7679', '3106', '4554', '3186', '1231', '4777', '1190', '7922', '1061', '1648', '61', '1209', '2355', '7070', '5274', '2620', '9248', '4136', '5489', '3693', '1768', '3159', '5526', '3285', '820', '543', '1696', '2657', '4430', '1', '4210', '2332', '3735', '5585', '3339', '8761', '159', '9106', '3805', '2079', '7978', '3860', '4764', '2504', '1422', '973', '5804', '2212', '4167', '5306', '5472', '6333', '81', '1601', '1450', '5391', '3408', '7001', '3931', '6545', '2824', '4174', '733', '536', '2218', '8833', '696', '6349', '2503', '1168', '5229', '1891', '7216', '2625', '5638', '3264', '4224', '1545', '3456', '2728', '1636', '5376', '3180', '8263', '4781', '2770', '2339', '2920', '5660', '1164', '8328', '2031', '3071', '5294', '2403', '1879', '2265', '3301', '1823', '4037', '3426', '446', '2769', '5578', '5656', '8342', '6323', '1538', '2080', '6584', '4756', '750', '355', '4128', '7971', '5374', '5449', '9354', '6710', '2768', '5434', '2446', '7280', '1489', '2082', '1608', '5681', '5592', '3461', '2383', '8096', '2363', '4200', '2044', '2611', '5824', '8333', '5838', '5587', '3772', '2622', '3591', '5503', '5126', '6297', '2545', '2836', '22', '577', '4170', '7247', '925', '3913', '1424', '8777', '2340', '4659', '639', '640', '3288', '7681', '4616', '8619', '3629', '1500', '1635', '2246', '5657', '7789', '2129', '4227', '1503', '1118', '1028', '1017', '392', '204', '8149', '3409', '6356', '5413', '5101', '6654', '2390', '655', '4717', '4148', '1210', '5895', '719', '8205', '4976', '4155', '2416', '4872', '2121', '2536', '5289', '2533', '7137', '808', '3876', '1005', '5463', '1000', '8862', '5419', '269', '8788', '5992', '6789', '2903', '2764', '2338', '2534', '2509', '7890', '3476', '463', '6952', '2333', '2517', '8730', '6963', '3258', '9257', '2089', '9098', '2721', '6676', '5806', '9527', '1662', '8561', '5616', '6257', '5451', '1057', '3440', '1211', '7535', '7954', '7383', '6670', '3947', '8242', '3448', '1743', '3822', '9548', '5284', '360', '2826', '288', '2597', '2747', '783', '6735', '4201', '5381', '3830', '7561', '1728', '3701', '5511', '8964', '4324', '1639', '357', '7793', '2528', '2464', '7274', '3469', '7391', '5542', '8799', '6455', '6741', '9709', '4547', '8272', '6432', '5766', '1293', '2692', '6362', '2083', '911', '700', '6443', '3070', '462', '524', '6268', '7513', '5124', '8899', '5817', '364', '9503', '5469', '512', '5853', '7242', '1120', '3529', '4951', '2752', '5499', '2268', '1285', '6211', '1739', '3773', '7344', '4322', '3690', '4578', '3763', '1659', '3731', '3945', '8732', '5234', '3711', '6371', '7392', '9522', '423', '7210', '8171', '8170', '9333', '5220', '383', '6123', '3603', '5846', '1300', '6667', '5591', '7025', '6154', '6300', '2913', '5356', '5912', '9763', '4603', '5436', '2624', '5601', '7873', '1380', '4682', '8578', '5364', '4918', '4842', '5453', '2716', '6502', '8912', '5836', '7731', '8630', '3415', '9240', '3475', '665', '9781', '8134', '9608', '9582', '7221', '1513', '7629', '5875', '1504', '9167', '2519', '5776', '5920', '8575', '2767', '9373', '9080', '9607', '6923', '3337', '8713', '2923', '5488', '6254', '477', '7302', '8773', '7076', '3450', '6967', '5908', '2461', '1725', '5066', '8818', '5574', '8093', '3774', '1994', '7090', '4320', '3397', '1152', '6577', '1019', '1338', '9690', '6993', '4362', '7601', '5196', '3177', '8511', '3412', '9078', '9011', '4278', '8558', '8092', '8569', '2207', '4109', '4289', '1541', '5111', '7641', '5189', '8025', '2258', '9393', '7785', '8119', '9891', '8659', '5177', '7148', '3078', '4580']\n",
      "Length 5 (760): ['3207', '819', '1230', '2905', '2387', '5318', '5588', '522', '1309', '3776', '2484', '7642', '8138', '1217', '5877', '1177', '2186', '141', '1236', '3340', '5260', '197', '2512', '3695', '1726', '3749', '419', '1199', '4276', '4335', '3046', '1242', '294', '6393', '2963', '182', '5982', '1421', '1291', '1853', '2110', '1240', '2916', '770', '3001', '1496', '810', '3847', '861', '147', '3422', '2050', '981', '7956', '3061', '931', '5426', '833', '535', '848', '558', '191', '780', '2759', '1441', '1088', '845', '989', '485', '995', '4602', '704', '1243', '2131', '1498', '1344', '1822', '3373', '534', '5268', '1600', '5181', '1821', '3649', '4290', '573', '762', '3824', '1191', '1649', '72', '1065', '421', '4877', '4401', '6837', '1802', '4319', '1087', '2191', '1534', '1506', '5531', '1067', '374', '5133', '3163', '1890', '3661', '4851', '2577', '757', '3', '181', '1460', '1884', '3088', '3035', '1156', '2521', '1148', '1713', '5448', '4619', '5255', '199', '91', '2645', '24', '4323', '2432', '1115', '9576', '7961', '2992', '3454', '818', '3596', '2524', '5513', '1653', '3095', '1532', '3745', '2375', '2015', '6681', '1857', '742', '651', '1206', '1342', '1001', '3708', '2636', '1186', '1220', '2690', '7232', '1681', '1284', '6106', '1798', '1530', '1495', '2996', '702', '6529', '1383', '2677', '1829', '4350', '2631', '680', '2287', '662', '2932', '4359', '4274', '1805', '7005', '2959', '184', '6262', '1527', '2988', '293', '4633', '2723', '3013', '4093', '2821', '5444', '988', '3108', '3322', '7472', '6745', '1556', '2211', '491', '4231', '6849', '825', '1150', '1318', '1116', '4203', '3489', '7404', '5000', '8950', '7133', '4212', '470', '2402', '3928', '4202', '3269', '3396', '4982', '1040', '1417', '3813', '1133', '4753', '4596', '1025', '2544', '2099', '2439', '2971', '4041', '3116', '7616', '4845', '210', '4195', '5410', '1453', '6394', '5336', '4557', '5708', '1931', '3768', '2993', '3148', '5200', '3010', '4281', '139', '1762', '1736', '2415', '3120', '5678', '2924', '2968', '6720', '1704', '7304', '2758', '7362', '7992', '5321', '3551', '9017', '3870', '8963', '7438', '2555', '1714', '1379', '5246', '2641', '1955', '3094', '1304', '5118', '3630', '3955', '8792', '7215', '1604', '1218', '5726', '5361', '170', '568', '1425', '5850', '8278', '5558', '3267', '6525', '6305', '1642', '80', '3110', '4052', '6728', '3388', '2190', '3743', '3622', '157', '8322', '1878', '758', '4551', '7692', '4564', '1575', '4427', '2010', '5843', '3015', '2907', '2651', '9990', '1171', '5710', '5241', '3374', '3519', '3234', '3170', '9654', '716', '5029', '2004', '5703', '8830', '3818', '4930', '5340', '1872', '2592', '6511', '6205', '3154', '1922', '4700', '3975', '2900', '1354', '2591', '1312', '9890', '2644', '2547', '1034', '117', '5580', '8147', '3765', '1442', '1470', '6699', '7782', '4929', '7071', '545', '7770', '121', '1953', '2548', '2000', '6887', '8283', '3801', '1909', '7075', '5301', '7926', '6196', '8393', '2441', '7298', '7462', '3175', '3394', '2727', '3578', '5627', '4931', '2450', '3331', '6871', '1201', '8901', '7083', '474', '3942', '4403', '6617', '2008', '1663', '777', '8875', '154', '5677', '4190', '8440', '6513', '2456', '3111', '5524', '3160', '153', '5219', '7131', '4794', '7809', '4631', '4125', '2912', '2574', '2331', '1413', '9084', '4149', '8864', '5304', '552', '3941', '1023', '4193', '4945', '193', '5233', '5493', '7766', '3473', '3389', '527', '2921', '3691', '8250', '3625', '8497', '2385', '5501', '6489', '4674', '1189', '3781', '1563', '7047', '5188', '2514', '9505', '5813', '5927', '6831', '1361', '8173', '6034', '2400', '3299', '8155', '5492', '4099', '1494', '2756', '918', '1445', '6408', '1841', '5261', '7027', '5366', '5961', '5688', '4592', '1555', '4787', '2440', '751', '6445', '3178', '2022', '167', '580', '3215', '9879', '354', '5878', '4369', '160', '624', '5123', '189', '6711', '5665', '4198', '7633', '5514', '9785', '492', '2508', '405', '3077', '6278', '3714', '4749', '64', '9711', '3466', '1748', '8271', '2979', '2607', '4673', '434', '3932', '5250', '3607', '4215', '1565', '3787', '2359', '4332', '5626', '7451', '7593', '8624', '3431', '5881', '3349', '990', '2744', '5940', '2835', '9573', '6839', '9325', '5630', '5635', '8337', '5752', '6340', '9787', '5595', '1920', '8212', '6520', '1744', '5398', '7977', '7675', '4168', '6245', '8715', '5475', '7238', '116', '7732', '1602', '1766', '9414', '6430', '7800', '475', '2119', '7747', '992', '8869', '3739', '378', '1433', '7003', '9184', '3348', '4355', '3983', '4728', '3289', '8546', '5159', '1108', '1900', '4993', '6930', '3696', '5283', '5117', '1747', '3868', '6026', '8852', '205', '7276', '8081', '1740', '4984', '6206', '6204', '8465', '2036', '7567', '1873', '1316', '359', '7715', '2763', '2370', '5308', '6124', '9149', '4691', '4501', '5498', '6742', '3114', '921', '8187', '5938', '2451', '3867', '2973', '2828', '6074', '9124', '5397', '6488', '3278', '2230', '6325', '4549', '9366', '4797', '2994', '4978', '1071', '5639', '8685', '3055', '3733', '1493', '6888', '7909', '3558', '4896', '8925', '2638', '453', '1444', '433', '8671', '5043', '6845', '6991', '2344', '8585', '6733', '2324', '7630', '5548', '7281', '1452', '5476', '1880', '6302', '3762', '6031', '5232', '6621', '8222', '557', '1529', '8760', '5438', '2182', '8758', '2018', '3542', '7962', '6463', '5481', '6413', '9372', '9495', '6810', '5251', '3843', '8112', '8642', '5515', '5605', '8502', '3442', '9677', '1263', '4679', '7306', '3987', '4043', '5379', '3326', '7311', '4108', '1985', '5819', '8959', '9467', '5644', '4924', '8504', '3724', '45', '7821', '8013', '991', '2336', '1419', '3174', '6775', '5350', '4103', '7422', '7636', '9289', '5596', '8161', '7541', '8554', '5307', '1596', '7540', '5014', '1179', '3271', '3135', '4548', '9791', '9497', '5814', '8706', '2778', '3263', '9493', '8378', '8994', '409', '5559', '2335', '5122', '6834', '3828', '6530', '4560', '3910', '1485', '3547', '3270', '7356', '2515', '7330']\n",
      "Length 6 (835): ['2554', '187', '6234', '504', '2397', '2580', '1486', '2094', '5193', '2655', '937', '3018', '2850', '172', '1797', '2485', '499', '1109', '2395', '2684', '162', '630', '1232', '9627', '9641', '1676', '2966', '1143', '986', '1305', '1849', '2234', '1051', '5298', '87', '2755', '2941', '1237', '2695', '2997', '5978', '3574', '849', '3924', '3255', '2573', '5278', '2430', '830', '2048', '4405', '420', '3138', '681', '7145', '975', '2220', '2445', '678', '1840', '6691', '713', '3416', '3248', '6347', '416', '1836', '7884', '724', '215', '489', '5269', '122', '1427', '4688', '3049', '5120', '631', '3633', '2372', '1064', '4101', '5658', '2599', '2564', '8496', '486', '997', '2897', '7669', '4334', '688', '658', '801', '8063', '3646', '982', '5001', '3276', '2266', '1447', '17', '1247', '1144', '4824', '2535', '15', '6630', '3732', '3266', '2938', '1886', '1665', '8641', '841', '4351', '693', '387', '1632', '4163', '200', '538', '1735', '2516', '2976', '2718', '6806', '782', '149', '148', '5227', '6003', '1265', '2262', '2481', '1392', '2046', '4277', '274', '3898', '3054', '176', '4979', '570', '150', '4898', '7980', '3410', '4712', '2873', '3192', '523', '8296', '561', '511', '2745', '4051', '847', '125', '1038', '1542', '1140', '3508', '1889', '644', '747', '1580', '729', '6364', '3433', '1785', '2358', '2998', '1074', '1259', '1915', '2071', '5590', '743', '7475', '5696', '1831', '851', '1388', '1921', '2540', '730', '1599', '3233', '4088', '1117', '8055', '4730', '4662', '58', '626', '5372', '6037', '923', '4287', '1311', '4465', '1443', '1081', '3608', '3279', '6751', '3861', '135', '1026', '5291', '3119', '3770', '628', '1121', '4214', '2845', '3206', '8356', '4396', '652', '4295', '6303', '2494', '3325', '3771', '3580', '7291', '2650', '471', '838', '2730', '3645', '2455', '648', '276', '1393', '533', '799', '3569', '4690', '8735', '171', '2906', '8000', '1845', '1033', '4173', '1827', '2329', '8831', '3112', '7331', '6019', '554', '5728', '2703', '3998', '5651', '4562', '4988', '3963', '5450', '4275', '2260', '53', '3979', '1448', '3324', '2691', '303', '3100', '1169', '4100', '4346', '8666', '332', '2832', '2668', '371', '3462', '3151', '6449', '1557', '8275', '2059', '5999', '3041', '2749', '469', '3566', '6210', '513', '428', '2538', '674', '3712', '6195', '1963', '3064', '1461', '711', '1268', '2179', '7676', '3935', '4718', '7559', '5110', '5966', '400', '3527', '2629', '3550', '4340', '563', '136', '7169', '2582', '4567', '5286', '3866', '4793', '1222', '2522', '4035', '2633', '8137', '3262', '4955', '183', '3593', '4211', '2634', '5240', '4726', '738', '8139', '519', '2113', '7037', '5535', '1724', '6258', '2371', '2642', '1617', '8290', '2301', '1524', '4849', '6715', '933', '391', '7490', '692', '2362', '3985', '4699', '8010', '6360', '6457', '4595', '5317', '3577', '4404', '1652', '2206', '3623', '1072', '1578', '3996', '2209', '4299', '5172', '4376', '2967', '1932', '5425', '5666', '1031', '3484', '1035', '3008', '3741', '3579', '8398', '6851', '3751', '4091', '5712', '6223', '4236', '3809', '1765', '3105', '1006', '1982', '3037', '2188', '5941', '7171', '5134', '7702', '9081', '3305', '195', '3072', '1319', '4520', '3171', '1839', '3730', '2208', '1778', '5530', '1888', '7611', '8148', '8079', '8395', '2427', '7483', '4870', '481', '5327', '8517', '4130', '4610', '1972', '5352', '3864', '9733', '1788', '8125', '6731', '7088', '8208', '8838', '7581', '1261', '7103', '2822', '1364', '6099', '5672', '575', '3260', '5432', '927', '3117', '3555', '4388', '515', '2669', '1869', '8695', '7603', '6435', '7140', '4040', '4034', '50', '6008', '697', '8941', '4801', '3121', '4154', '2726', '6734', '2780', '2278', '5343', '8731', '6822', '2267', '1292', '4395', '1079', '6884', '5054', '2917', '2213', '8900', '6641', '2649', '9830', '3792', '2425', '6417', '4042', '1682', '7290', '3567', '2995', '281', '984', '4914', '3449', '3742', '7478', '2717', '5386', '5175', '9694', '2054', '1204', '5088', '5770', '1153', '5435', '7994', '4071', '7576', '3251', '8297', '164', '8814', '8410', '66', '1487', '2346', '9658', '4076', '1303', '1547', '9807', '5490', '4640', '1216', '8794', '7741', '6246', '7411', '1351', '5007', '4105', '493', '7553', '5735', '6264', '5533', '8498', '7828', '5865', '4810', '5562', '5104', '1062', '5827', '5100', '5810', '9020', '7360', '6267', '1301', '1166', '3536', '6706', '650', '1804', '4556', '1294', '4991', '2551', '4629', '3698', '8633', '5292', '3899', '7991', '7021', '2911', '3063', '3839', '7870', '5208', '488', '7416', '4939', '1233', '4414', '2424', '6582', '7233', '3535', '8422', '8669', '5784', '5447', '1194', '7085', '49', '3164', '4695', '2298', '7213', '2087', '6592', '2183', '8867', '5058', '5452', '4317', '2122', '8086', '9792', '7314', '3723', '3082', '1885', '1163', '3162', '6014', '6503', '1661', '7514', '3877', '7193', '4098', '1893', '8366', '2957', '8409', '1720', '6809', '3298', '4066', '2893', '9704', '1073', '9079', '5440', '3249', '4874', '5748', '2954', '8160', '3721', '3073', '1431', '5375', '5019', '2384', '9430', '1897', '3769', '2459', '3020', '1895', '75', '4897', '4681', '5021', '5270', '6743', '9811', '6521', '5135', '9902', '5228', '2525', '5986', '899', '8313', '3079', '9987', '7164', '2830', '2722', '8203', '4406', '5012', '7159', '5423', '2074', '6091', '5408', '1249', '8391', '7418', '6746', '8120', '1239', '1611', '4393', '1935', '6567', '3477', '7178', '649', '5698', '4899', '3479', '4790', '667', '4686', '7440', '9691', '5976', '3857', '5923', '7480', '8927', '8483', '7343', '2909', '9600', '8380', '25', '8162', '5885', '7503', '3212', '4553', '993', '296', '6698', '8365', '4676', '4906', '4754', '3584', '6352', '2193', '4438', '1638', '6714', '1066', '3943', '3915', '7693', '912', '3804', '9589', '9178', '2060', '8485', '1564', '5972', '9828', '3556', '6309', '9620', '6559', '5818', '1626', '6526', '8673', '4410', '8736', '9513', '2757', '8153', '7959', '2724', '5420', '5103', '5566', '2935', '5310', '9442', '5477', '2661', '5615', '7958', '4223', '7066', '8733', '2660', '9537', '6117', '7587', '2559', '8017', '2627', '1511', '4451', '7704', '7471', '2061', '3358', '913', '3355', '9216', '7862', '4070', '9825', '4729', '3766', '5288', '5816', '201', '7708', '5699', '9444', '9214', '4123', '6460', '3871', '3856', '3946', '6614', '3811', '2870', '3874', '1533', '3800', '4986', '1508', '6971', '6284', '4782', '8273', '9885', '9651', '5841', '1018', '9808', '5539', '3090', '5360', '4500', '7487', '4757', '4499', '3109', '1111', '5873', '3554', '8024', '2422', '5568', '9370']\n",
      "Length 7 (804): ['2986', '3005', '7749', '4494', '271', '2271', '1225', '3557', '3398', '1908', '397', '5081', '1055', '6069', '495', '1631', '1010', '998', '1911', '4739', '627', '844', '950', '1197', '2398', '3981', '7725', '3000', '3834', '4671', '1590', '54', '2626', '2263', '2802', '1940', '1851', '5916', '1820', '714', '1068', '1278', '3277', '1009', '1944', '277', '2112', '3385', '1669', '2566', '2985', '3689', '5673', '2609', '1834', '4973', '5319', '1014', '8267', '4283', '767', '165', '4325', '4970', '1235', '1095', '292', '854', '2109', '460', '1063', '755', '883', '2801', '4641', '8592', '877', '6388', '3439', '4218', '2361', '7895', '564', '4811', '1228', '3286', '265', '5949', '3819', '290', '926', '331', '1043', '5901', '745', '2550', '1910', '7168', '5247', '6404', '89', '3216', '2784', '1646', '2719', '1800', '804', '1027', '659', '3022', '636', '4237', '57', '945', '2396', '3485', '458', '427', '6046', '1110', '2839', '1192', '3748', '2662', '1457', '669', '4532', '2922', '4279', '1234', '888', '226', '319', '4928', '675', '5150', '5527', '2141', '1938', '3150', '1313', '401', '5659', '1678', '809', '6477', '468', '2105', '2696', '6464', '803', '1154', '1090', '701', '610', '1752', '7624', '385', '3611', '218', '2214', '5575', '1759', '4180', '6390', '4176', '1343', '8645', '7214', '4669', '6752', '4702', '4347', '956', '8140', '4915', '1173', '6024', '571', '2510', '1760', '4338', '4254', '3382', '7658', '3039', '1356', '4341', '2812', '1145', '7277', '4062', '8584', '68', '3246', '689', '3011', '2556', '8167', '3224', '3359', '5314', '7172', '7899', '2347', '3315', '348', '4412', '3994', '1954', '3193', '5996', '2123', '7947', '3853', '1956', '4774', '1307', '1089', '1589', '4171', '2120', '2351', '2264', '2196', '3223', '4321', '2321', '2328', '2248', '166', '7282', '7147', '6421', '7470', '1446', '1539', '1386', '8124', '4407', '6568', '6426', '4590', '7485', '1828', '7301', '2066', '778', '502', '8722', '539', '2939', '1946', '2101', '3152', '1333', '8051', '5040', '9676', '7878', '1306', '1859', '3230', '8789', '2460', '1238', '2553', '2679', '305', '1362', '4028', '5041', '6651', '4092', '1660', '1698', '2950', '816', '2117', '3719', '4431', '1969', '472', '2794', '1623', '2869', '3241', '3362', '5800', '6828', '3219', '772', '3295', '230', '2348', '3198', '1283', '6047', '1474', '1518', '4307', '1430', '4196', '2875', '7374', '2505', '4498', '3656', '2704', '2686', '29', '1429', '6423', '978', '1007', '996', '5422', '1984', '3146', '2132', '3604', '4597', '5617', '2774', '1012', '5989', '373', '3441', '7399', '7579', '3757', '1215', '647', '5518', '8687', '5031', '4689', '6137', '3480', '3559', '2026', '7322', '3848', '5754', '3155', '5609', '5320', '8519', '1876', '2732', '7718', '2948', '4490', '478', '1612', '2356', '2463', '8415', '2185', '4285', '8209', '3419', '1571', '339', '5129', '6998', '3923', '5724', '7769', '6412', '0', '886', '3083', '306', '9867', '4271', '5328', '1730', '5461', '1882', '322', '9845', '3715', '9358', '3850', '4989', '3917', '5077', '3744', '4912', '7493', '2678', '2949', '3517', '1609', '7062', '5648', '509', '5337', '3990', '712', '8064', '559', '4423', '4288', '102', '112', '1708', '1647', '9642', '7986', '2742', '2042', '6964', '3400', '5201', '395', '8452', '7504', '2171', '2709', '2005', '2413', '4594', '9344', '768', '6403', '8636', '5069', '2858', '2221', '3572', '789', '3618', '5357', '2233', '6466', '5579', '2842', '896', '1548', '7694', '298', '1786', '10', '6765', '8392', '4799', '490', '2589', '16', '6921', '356', '860', '2837', '452', '5417', '3387', '2843', '1440', '7700', '3621', '6131', '5243', '4724', '2915', '3032', '4047', '1537', '2297', '3827', '7818', '128', '9639', '9878', '2946', '4876', '27', '3238', '4375', '553', '7901', '7672', '9421', '873', '6872', '9182', '6524', '4301', '5496', '3391', '7942', '7091', '6285', '2077', '1075', '7484', '5254', '2088', '6122', '8244', '800', '1574', '4026', '904', '455', '8334', '180', '7876', '5603', '3465', '2257', '6815', '5807', '6761', '1519', '1855', '8586', '8926', '1806', '8089', '8303', '1723', '2486', '3526', '1572', '3683', '7354', '8823', '6882', '2896', '4048', '3084', '5290', '7896', '5036', '1224', '1813', '3980', '5750', '4374', '6611', '7649', '3970', '3692', '1418', '1106', '2447', '5917', '7742', '3531', '671', '2539', '4530', '8021', '1794', '3564', '5407', '6749', '556', '3677', '2049', '7623', '6465', '2740', '3169', '3300', '5315', '2581', '5973', '1540', '9258', '8982', '6725', '5529', '8404', '4886', '3952', '6036', '1501', '3383', '8346', '173', '6188', '5441', '6141', '3132', '5484', '3213', '4327', '4611', '445', '5872', '709', '1368', '8727', '6945', '4329', '92', '1905', '2739', '1562', '9092', '3747', '9471', '4584', '3435', '8816', '3918', '1605', '6480', '7748', '9302', '4727', '2729', '479', '6637', '9050', '7002', '9227', '3838', '1577', '4390', '8018', '4151', '7780', '6596', '906', '9862', '5547', '5555', '9198', '968', '7425', '9130', '8310', '1807', '4759', '8916', '9208', '1170', '8795', '4240', '4803', '9293', '6934', '9018', '9241', '4630', '1732', '5802', '2969', '9693', '6002', '6028', '5275', '9852', '5137', '919', '3168', '6557', '6304', '450', '8656', '3785', '9195', '3235', '8387', '3411', '698', '5788', '3825', '2216', '8468', '7696', '8821', '2003', '7284', '4012', '8307', '7279', '1162', '2762', '8690', '4723', '2021', '7273', '9288', '8538', '1531', '8003', '7934', '7910', '7206', '9163', '4927', '9029', '2600', '3363', '4962', '7811', '8562', '3914', '3274', '6493', '272', '3581', '232', '9786', '9014', '7124', '6972', '3590', '3687', '4102', '4134', '132', '4189', '9779', '7755', '9376', '6820', '6027', '5778', '3812', '3017', '4463', '5809', '6169', '2628', '3991', '3487', '8133', '3840', '1947', '920', '3760', '5541', '1776', '5606', '4937', '3102', '11', '5044', '6812', '3370', '346', '8107', '7745', '2934', '7165', '9734', '3657', '6793', '6144', '1411', '1867', '1526', '7459', '7473', '7521', '3306', '2613', '5942', '3459', '5891', '1296', '6719', '4843', '4343', '2531', '7663', '9350', '2012', '9535', '7836', '6369', '5395', '4804', '2656', '1176', '6433', '1559', '2829', '6982', '3028', '6481', '8672', '3257', '9458', '9777', '6174', '381', '7334', '5277', '9508', '7595', '4785', '2203', '7068', '2076', '1203', '1581', '9836']\n",
      "data\\vocab_controlled.pkl\n",
      "1902\n",
      "Length 3 (212): ['1777', '86', '653', '3832', '1255', '2595', '1226', '2852', '1644', '3796', '2013', '14', '1570', '994', '7012', '137', '2078', '467', '2557', '572', '2256', '1458', '3052', '1721', '1505', '1757', '2457', '715', '2399', '1677', '3075', '7363', '2444', '1213', '1512', '802', '1558', '407', '2401', '885', '454', '3366', '3272', '641', '1151', '3659', '1003', '2039', '2062', '5075', '7815', '3936', '5326', '2417', '2204', '1030', '1437', '2373', '5470', '3533', '3906', '1670', '5544', '1241', '4913', '9138', '7695', '3372', '1658', '1543', '1826', '3044', '2733', '2261', '1004', '9292', '682', '3227', '3468', '4380', '9152', '9021', '1733', '5483', '3443', '6713', '6318', '5862', '4805', '5980', '43', '7825', '5462', '1165', '7329', '6010', '7192', '4541', '1298', '9438', '42', '3615', '8902', '8866', '765', '4239', '7805', '2002', '5906', '5701', '4296', '5225', '4883', '6407', '9401', '8884', '7034', '2024', '1808', '8192', '2388', '8696', '158', '3534', '3514', '9199', '5852', '9326', '8436', '9135', '44', '9729', '5182', '6693', '5212', '2305', '5674', '1749', '9109', '9432', '3548', '4920', '5707', '7717', '5121', '1675', '1741', '5842', '8743', '3610', '2754', '3664', '4310', '8954', '3195', '5984', '8044', '6011', '3384', '4185', '8658', '7495', '7341', '8613', '4618', '4386', '4786', '7918', '3891', '7827', '7380', '8248', '3700', '5367', '7935', '9061', '7101', '8061', '5569', '9425', '6015', '9815', '8684', '7205', '5016', '8674', '6827', '7013', '8871', '8121', '8023', '5664', '7336', '9696', '7361', '5858', '8782', '7359', '7437', '9197', '2632', '9965', '9610', '4960', '9981', '8118', '8560', '6447', '7333', '5186', '7661', '8887']\n",
      "Length 4 (587): ['3734', '3089', '2386', '1281', '2725', '985', '676', '146', '2537', '3421', '1039', '843', '2546', '1809', '1656', '987', '683', '2420', '646', '2908', '3081', '2820', '679', '2084', '784', '2831', '4192', '3816', '3003', '1349', '858', '487', '501', '542', '1707', '2438', '118', '657', '1130', '2930', '2382', '761', '759', '1290', '3725', '687', '2352', '736', '4784', '525', '1832', '3509', '1114', '2210', '1302', '418', '120', '3539', '781', '4725', '2025', '4094', '2841', '3628', '1899', '5034', '521', '3552', '4708', '4316', '2369', '2773', '3453', '1227', '1657', '484', '3538', '1347', '1221', '2434', '5238', '5491', '1200', '5239', '2738', '555', '3194', '3283', '2454', '1022', '2334', '668', '3631', '2671', '3059', '1767', '3377', '3726', '3106', '4554', '3186', '1231', '1061', '1209', '2355', '5274', '9248', '4136', '1768', '3159', '5526', '3285', '820', '543', '1696', '2657', '4430', '1', '4210', '2332', '5585', '3339', '159', '3805', '2079', '7978', '4764', '2504', '1422', '973', '5804', '2212', '4167', '6333', '1601', '1450', '5391', '3408', '7001', '3931', '6545', '2824', '4174', '733', '2218', '696', '6349', '1168', '5229', '1891', '7216', '2625', '3264', '1545', '3456', '2728', '1636', '5376', '3180', '8263', '4781', '2770', '2920', '1164', '8328', '2031', '3071', '2403', '1879', '2265', '3301', '1823', '4037', '3426', '446', '2769', '5578', '5656', '8342', '6323', '1538', '750', '5449', '6710', '2768', '2446', '7280', '1489', '1608', '2383', '8096', '2363', '2044', '2611', '2622', '3591', '5126', '2545', '2836', '577', '4170', '7247', '925', '3913', '1424', '2340', '4659', '640', '3288', '7681', '4616', '8619', '3629', '1500', '1635', '2246', '5657', '7789', '2129', '4227', '1503', '1118', '1017', '204', '8149', '3409', '5101', '6654', '4717', '5895', '719', '8205', '4155', '2416', '4872', '2121', '2536', '5289', '7137', '1000', '5419', '269', '5992', '6789', '2903', '2764', '2338', '2534', '3476', '463', '3258', '9257', '2089', '9098', '2721', '6676', '5806', '9527', '1662', '8561', '5616', '6257', '1057', '3440', '1211', '7535', '7954', '7383', '6670', '3947', '8242', '3822', '9548', '5284', '2826', '4201', '5381', '3701', '5511', '4324', '1639', '2464', '3469', '7391', '8799', '6741', '4547', '8272', '1293', '2083', '911', '700', '6443', '462', '6268', '5124', '8899', '9503', '512', '7242', '1120', '4951', '2752', '1285', '1739', '3773', '7344', '4322', '3690', '4578', '3763', '1659', '3731', '3945', '8732', '5234', '6371', '7392', '423', '8171', '9333', '5220', '6123', '3603', '6667', '7025', '6300', '4603', '5436', '2624', '7873', '1380', '4918', '4842', '6502', '8912', '5836', '7731', '8630', '3415', '9240', '3475', '9781', '8134', '7629', '5875', '1504', '9167', '5920', '2767', '6923', '3337', '8713', '2923', '5488', '6254', '7302', '8773', '3450', '6967', '2461', '1725', '5066', '8818', '8093', '3774', '1994', '7090', '1152', '1019', '1338', '4362', '7601', '3177', '3412', '9078', '8558', '8569', '2207', '4109', '7641', '8025', '9393', '8119', '7148', '4580', '4315', '5762', '7852', '4605', '5822', '8543', '7586', '5445', '4166', '6288', '2433', '8426', '4493', '3273', '6899', '6562', '3444', '7269', '5316', '9813', '3113', '4054', '4591', '3328', '7452', '9282', '8797', '8505', '8699', '8330', '8751', '9874', '4946', '8826', '3347', '3280', '7153', '7396', '5536', '7120', '9569', '7877', '6021', '1810', '4587', '8508', '7406', '8542', '8367', '4191', '6182', '1196', '6287', '3143', '6039', '3713', '8855', '3530', '7529', '8700', '9536', '3644', '2178', '8062', '9386', '5857', '2019', '4336', '9026', '7326', '7618', '1702', '8221', '8056', '2753', '5487', '8847', '5642', '1381', '8277', '6353', '5650', '6461', '8918', '3304', '7727', '6680', '7285', '9640', '9426', '3702', '3074', '5125', '7234', '9367', '5589', '8983', '3166', '2197', '9596', '8103', '1687', '2834', '4649', '7726', '7409', '6382', '5280', '3973', '551', '914', '9496', '3069', '9174', '8146', '6818', '7149', '9052', '6063', '740', '2419', '9179', '9541', '1384', '4994', '7218', '4213', '5147', '8142', '9922', '6456', '8401', '8841', '5064', '9617', '9500', '9091', '2621', '6172', '7046', '2199', '4972', '4486', '5385', '8364', '1295', '9520', '4207', '5332', '7733', '4798', '9616', '5008', '6444', '9472', '2421', '6496', '4921', '5829', '9466', '1874', '7511', '6338', '6358', '4381', '8764', '8225', '9437', '9207', '1282', '6543', '6184', '8488', '9638', '4172', '9129', '6171', '6155', '7570', '2606', '6490', '3663', '8969', '6863', '5811', '7243', '3167', '5823', '3376', '5844', '9063', '8475', '7606', '6778', '7858', '5898', '3417', '1287', '8059', '4559', '7364']\n",
      "Length 5 (521): ['819', '5588', '1309', '3776', '7642', '8138', '1217', '5877', '2186', '141', '3340', '5260', '197', '419', '1199', '4276', '4335', '1242', '6393', '2963', '182', '1421', '1291', '1853', '2110', '2916', '770', '3001', '1496', '2050', '981', '7956', '5426', '833', '535', '848', '191', '780', '2759', '1088', '485', '4602', '1243', '2131', '1498', '1344', '3373', '5268', '1600', '3649', '4290', '573', '762', '3824', '1649', '1065', '421', '6837', '1802', '1087', '2191', '1534', '5531', '374', '1890', '3661', '4851', '757', '3', '181', '1460', '1884', '3035', '1156', '5448', '4619', '199', '2645', '2432', '7961', '2992', '3596', '2524', '3095', '3745', '2375', '2015', '6681', '1857', '1206', '1342', '2636', '1681', '1495', '2996', '1383', '4350', '4274', '1805', '1527', '2988', '4633', '4093', '3322', '7472', '1556', '825', '4203', '3489', '7404', '470', '3928', '4202', '3269', '1025', '2099', '4041', '3116', '4845', '4195', '5410', '6394', '5708', '1931', '3768', '2993', '3148', '3010', '4281', '2415', '3120', '7304', '7362', '5321', '7438', '2555', '1714', '1379', '3094', '5118', '3955', '8792', '7215', '1604', '1218', '170', '1425', '5558', '6525', '1642', '3110', '6728', '3743', '3622', '157', '1575', '2010', '3015', '5710', '3374', '9654', '716', '5029', '4930', '1872', '6511', '3154', '4700', '3975', '2900', '2591', '1312', '2644', '1034', '5580', '1470', '6699', '4929', '1953', '8283', '3801', '1909', '7926', '7298', '3578', '5627', '3331', '6871', '3942', '1663', '777', '154', '4190', '153', '7131', '4794', '2331', '1413', '5304', '3941', '1023', '4193', '193', '3389', '8250', '3625', '8497', '4674', '5188', '5813', '5927', '6034', '2400', '8155', '2756', '918', '1445', '6408', '7027', '4592', '1555', '2022', '9879', '4369', '5123', '6711', '4198', '7633', '3466', '1748', '8271', '2979', '4673', '1565', '2359', '4332', '7451', '7593', '5881', '3349', '2744', '5752', '8212', '1744', '7977', '1602', '1766', '9414', '3739', '378', '1433', '7003', '9184', '3983', '4728', '5117', '6026', '8852', '8081', '4984', '2036', '7567', '1873', '1316', '6124', '3114', '8187', '5938', '2973', '2828', '6074', '2230', '4549', '9366', '2994', '4978', '1071', '5639', '3733', '7909', '3558', '8925', '453', '1444', '8671', '5043', '6845', '5548', '3762', '5232', '8222', '557', '5438', '2018', '6413', '5515', '5605', '1263', '4679', '4043', '3326', '7311', '1985', '5819', '9467', '4924', '3724', '991', '3174', '5350', '7422', '7636', '7541', '8554', '1596', '9493', '8378', '8994', '409', '5559', '2335', '5122', '3828', '7356', '3950', '2956', '5281', '6462', '5013', '4505', '3722', '6660', '6995', '2412', '5782', '9942', '7332', '8074', '7659', '6440', '9637', '3919', '5621', '3210', '5387', '3291', '7765', '426', '2990', '5868', '4661', '5302', '8583', '5380', '9486', '9660', '7597', '4812', '9856', '7964', '9060', '7489', '6768', '6780', '6978', '1703', '6514', '9674', '3761', '9806', '9848', '6889', '6552', '8284', '4589', '9133', '9544', '7297', '5504', '7373', '4593', '2376', '9619', '4923', '4620', '5331', '9737', '6410', '4628', '8621', '3780', '3002', '5563', '3655', '5612', '5242', '1346', '5065', '9059', '7305', '8853', '9304', '6931', '4917', '3232', '5546', '5377', '7266', '4297', '8611', '4655', '3091', '3933', '6800', '8934', '8921', '5078', '6396', '9424', '84', '8135', '5324', '3296', '8747', '8716', '5106', '9276', '3427', '2462', '7423', '8990', '7657', '1705', '8762', '9450', '7384', '177', '7376', '5115', '9678', '7450', '8811', '8774', '9267', '3208', '3940', '8882', '8088', '5705', '5022', '5409', '3930', '7312', '3202', '5370', '8849', '3189', '5282', '9008', '3425', '732', '1952', '9261', '7872', '3720', '9816', '4697', '5257', '1060', '6381', '5611', '3767', '9680', '6474', '5633', '196', '6452', '3831', '1595', '8090', '4623', '550', '5561', '6451', '5138', '4096', '4164', '1667', '3738', '3912', '3329', '6629', '7186', '9838', '3217', '3609', '7026', '9348', '8892', '4045', '8102', '9972', '8382', '74', '7309', '2807', '9562', '7590', '8874', '7185', '7303', '3926', '7439', '3205', '3220', '3971', '5618', '8701', '4941', '8689', '9095']\n",
      "Length 6 (327): ['2554', '187', '2094', '3018', '1109', '9641', '1305', '2941', '3924', '3255', '5278', '830', '2048', '4405', '2220', '2445', '678', '6347', '1836', '7884', '724', '215', '1427', '3049', '1064', '2599', '3646', '3276', '1447', '1144', '2938', '1886', '1665', '693', '387', '4163', '2976', '6806', '5227', '4277', '274', '3898', '3054', '176', '150', '4712', '3192', '511', '2745', '1038', '1889', '3433', '1785', '2358', '2998', '2071', '7475', '5696', '1388', '923', '4465', '1081', '3608', '3119', '8356', '652', '3580', '3645', '276', '799', '554', '5728', '2703', '3979', '3324', '3100', '4346', '2059', '2538', '3712', '1963', '1461', '711', '1268', '5110', '5966', '400', '3527', '4793', '183', '5240', '4726', '8139', '5535', '6258', '4699', '6457', '4595', '1072', '1578', '3996', '2967', '5666', '3008', '3741', '3751', '1765', '3037', '7171', '3171', '1839', '4870', '481', '4610', '9733', '8125', '6731', '8838', '1364', '927', '3555', '1869', '7603', '7140', '4040', '4801', '6734', '2278', '6822', '2267', '1079', '6884', '6641', '9830', '4042', '1682', '281', '5386', '2054', '3251', '8410', '66', '1547', '1216', '7741', '7553', '5735', '5533', '4810', '5562', '5104', '5100', '1301', '1294', '4414', '2087', '2183', '6503', '1661', '1893', '2957', '1720', '3298', '1073', '5440', '3249', '2954', '8160', '3721', '1431', '5019', '1897', '4681', '6743', '5986', '899', '8313', '7164', '5012', '5423', '2074', '5976', '3857', '2909', '8380', '8162', '3212', '4676', '1638', '5972', '6559', '8673', '4410', '8153', '2724', '2935', '6117', '913', '9216', '3946', '3811', '1533', '4986', '6284', '9808', '1111', '5873', '3554', '5568', '349', '6538', '8287', '9397', '3176', '5913', '8193', '3984', '6877', '8806', '2654', '6722', '5731', '3330', '6549', '7339', '7637', '3414', '1966', '5050', '8080', '7421', '3341', '9702', '8634', '5692', '7255', '4802', '9389', '7382', '6904', '5479', '3250', '7735', '7412', '3908', '8224', '9142', '8220', '7394', '8582', '7588', '6296', '8101', '5619', '7860', '7903', '4561', '6853', '4943', '1992', '8778', '6640', '8099', '4036', '7024', '9887', '8281', '5717', '7349', '7966', '5443', '4262', '9621', '2894', '5918', '3750', '5565', '3338', '4944', '9312', '9132', '8261', '140', '4639', '7520', '5554', '8573', '7505', '7592', '2975', '4950', '8246', '1666', '4260', '7100', '6587', '3472', '8368', '9684', '9463', '3802', '3099', '7806', '6658', '2475', '3624', '9584', '2134', '9086', '5553', '9814', '8075', '7455', '5363', '41', '2393', '3275', '4621', '8598', '3418', '5297', '7984', '2058', '7506', '388', '4778', '3149']\n",
      "Length 7 (150): ['2986', '7749', '271', '1010', '4671', '1590', '883', '2801', '7895', '4811', '3286', '265', '1800', '4237', '4532', '226', '2141', '1090', '1752', '7624', '218', '8140', '1145', '8167', '3315', '3994', '4321', '7282', '1539', '2066', '1306', '2117', '2348', '3198', '1430', '3656', '3146', '1215', '8687', '6137', '2463', '886', '3850', '7986', '2171', '896', '3621', '3032', '7818', '27', '4301', '904', '5603', '8926', '1806', '2896', '5036', '7649', '3692', '6749', '3300', '5529', '3435', '5547', '6002', '5275', '5137', '3235', '8468', '8821', '9288', '8538', '4927', '272', '1947', '11', '6812', '3657', '5891', '7595', '1581', '4586', '6459', '2926', '4449', '1977', '4038', '3967', '8218', '9038', '8520', '7310', '7194', '4844', '7594', '2145', '7967', '1092', '5749', '6546', '4696', '8648', '3062', '6992', '7930', '8288', '3616', '3651', '5610', '8987', '5646', '6874', '8470', '9507', '248', '4454', '9849', '5446', '5437', '9104', '3783', '8476', '3654', '1546', '6712', '3999', '2965', '9115', '3997', '3308', '7198', '8449', '8850', '5046', '7983', '7007', '6251', '8181', '9278', '8478', '7014', '9300', '9385', '8054', '5456', '4057', '4826', '9126', '8746', '6342']\n"
     ]
    }
   ],
   "source": [
    "for vocab_f, wordlength_file in zip([vocab_file, vocab_controlled_file], [ids_by_wordlength_file, ids_by_wordlength_controlled_file]):\n",
    "    print(vocab_f)\n",
    "    with open(vocab_f, 'rb') as f:\n",
    "        vocab = pkl.load(f)\n",
    "    print(len(vocab))\n",
    "    ids_by_wordlength_dict = {wl: [id for id in vocab if len(vocab[id]) == wl] for wl in range(3,8)}\n",
    "    for wl in ids_by_wordlength_dict:\n",
    "        print(f\"Length {wl} ({len(ids_by_wordlength_dict[wl])}): {ids_by_wordlength_dict[wl]}\")\n",
    "    \n",
    "    with open(wordlength_file, 'wb') as f:\n",
    "        pkl.dump(ids_by_wordlength_dict, f)\n"
   ]
  }
 ],
 "metadata": {
  "kernelspec": {
   "display_name": "Python 3",
   "language": "python",
   "name": "python3"
  },
  "language_info": {
   "codemirror_mode": {
    "name": "ipython",
    "version": 3
   },
   "file_extension": ".py",
   "mimetype": "text/x-python",
   "name": "python",
   "nbconvert_exporter": "python",
   "pygments_lexer": "ipython3",
   "version": "3.9.7"
  }
 },
 "nbformat": 4,
 "nbformat_minor": 2
}
