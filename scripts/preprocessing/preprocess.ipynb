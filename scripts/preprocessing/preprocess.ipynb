{
 "cells": [
  {
   "cell_type": "code",
   "execution_count": 3,
   "metadata": {},
   "outputs": [],
   "source": [
    "import os\n",
    "import bz2\n",
    "import pickle as pkl"
   ]
  },
  {
   "cell_type": "code",
   "execution_count": 4,
   "metadata": {},
   "outputs": [],
   "source": [
    "os.chdir(os.path.join(r\"C:\\Users\\Raya\\OneDrive\\Documents\\3-CSAI\\CSAI-Y3-S2\\Thesis\\csai-thesis\"))"
   ]
  },
  {
   "cell_type": "code",
   "execution_count": 54,
   "metadata": {},
   "outputs": [],
   "source": [
    "# Constants\n",
    "wordids_compressed = os.path.join(\"data\", \"wiki_wordids.txt.bz2\")\n",
    "wordids_decompressed = os.path.join(\"data\", \"wordids.txt\")\n",
    "selected_words = os.path.join(\"data\", \"200_words.txt\")\n",
    "celex = os.path.join('data', 'wfdict.pkl')\n",
    "words_inspection = os.path.join('data', 'words_inspection.txt')"
   ]
  },
  {
   "cell_type": "code",
   "execution_count": 7,
   "metadata": {},
   "outputs": [],
   "source": [
    "# Save a decompressed version of the wordids file\n",
    "with bz2.open(wordids_compressed, 'rb', encoding='utf-8') as f_in, open(wordids_decompressed, 'wb') as f_out:\n",
    "    f_out.write(f_in.read())"
   ]
  },
  {
   "cell_type": "code",
   "execution_count": 53,
   "metadata": {},
   "outputs": [
    {
     "name": "stdout",
     "output_type": "stream",
     "text": [
      "The contents of the wordids file look like this:\n",
      "5545283\n",
      "16004\taa\t25827\n",
      "12579\taaa\t12305\n",
      "63127\taaaa\t999\n",
      "80933\taaas\t1594\n",
      "54701\taab\t1435\n",
      "20022\taac\t2796\n",
      "\n",
      "The id2word dictionary looks like this:\n",
      "16004 : aa\n",
      "12579 : aaa\n",
      "63127 : aaaa\n",
      "80933 : aaas\n",
      "54701 : aab\n",
      "20022 : aac\n",
      "30535 : aachen\n",
      "96694 : aacsb\n",
      "84104 : aacta\n",
      "54859 : aad\n"
     ]
    }
   ],
   "source": [
    "# Directly creating an id2word dictionary from the compressed file.\n",
    "id2word_dict = {}\n",
    "\n",
    "# Preview the file contents\n",
    "with bz2.open(wordids_compressed, 'rt', encoding='utf-8') as f:\n",
    "    contents = f.read()\n",
    "    print(\"The contents of the wordids file look like this:\")\n",
    "    print(contents[:100])\n",
    "\n",
    "# Extract words and corresponding IDs\n",
    "with bz2.open(wordids_compressed, 'rt', encoding='utf-8') as f:    \n",
    "    first_line = True\n",
    "    for line in f:\n",
    "        if first_line:\n",
    "            first_line = False\n",
    "            continue  # Skip the first line\n",
    "        id, word, _ = line.split() # Split the line into components\n",
    "        id2word_dict[id] = word\n",
    "\n",
    "print(f\"The id2word dictionary looks like this:\")\n",
    "for i, (id, word) in enumerate(list(id2word_dict.items())[:10]):\n",
    "    print(f\"{id} : {word}\")"
   ]
  },
  {
   "cell_type": "markdown",
   "metadata": {},
   "source": [
    "# Inspect words"
   ]
  },
  {
   "cell_type": "markdown",
   "metadata": {},
   "source": [
    "## Using nltk"
   ]
  },
  {
   "cell_type": "code",
   "execution_count": null,
   "metadata": {},
   "outputs": [],
   "source": [
    "import nltk\n",
    "# Ensure the 'words' corpus is downloaded\n",
    "nltk.download('words')\n",
    "from nltk.corpus import words"
   ]
  },
  {
   "cell_type": "code",
   "execution_count": null,
   "metadata": {},
   "outputs": [],
   "source": [
    "# Access the word list from the nltk 'words' corpus\n",
    "word_list = words.words('en')\n",
    "invalid_words = [] # List to store invalid words found in the selected sample\n",
    "total_words = 0 # Counter for total words processed\n",
    "\n",
    "# Check if the words in the selected sample are found in the nltk 'words' corpus\n",
    "with open(selected_words, 'r') as f:\n",
    "    for word in f:\n",
    "        word = word.strip()\n",
    "        # Update total words counter\n",
    "        total_words += 1\n",
    "        # Add invalid words to the list\n",
    "        if word not in word_list:\n",
    "            invalid_words.append(word) \n",
    "\n",
    "if total_words == 0:\n",
    "    print(\"No words to process.\")\n",
    "\n",
    "# Write invalid words to file for inspection\n",
    "with open(words_inspection, 'w') as f:\n",
    "    if total_words > 0:\n",
    "        # Calculate ratio of invalid words to total words\n",
    "        ratio = len(invalid_words) / total_words\n",
    "        f.write(f\"Ratio of invalid over valid English words (based on nltk.corpus.words): {len(invalid_words)}/{total_words}={ratio}\\n\")\n",
    "    else:\n",
    "        print(\"No valid data to calculate ratio.\\n\")\n",
    "    \n",
    "    # Write each invalid word to the file\n",
    "    for word in invalid_words:\n",
    "        f.write(f\"{word}\\n\")"
   ]
  },
  {
   "cell_type": "markdown",
   "metadata": {},
   "source": [
    "## Using CELEX - for morphological status"
   ]
  },
  {
   "cell_type": "code",
   "execution_count": 9,
   "metadata": {},
   "outputs": [
    {
     "name": "stdout",
     "output_type": "stream",
     "text": [
      "Loaded CELEX dictionary with 160595 entries\n",
      "12546 are monomorphemic lemmas\n",
      "['a', 'a', 'AA', 'abandon', 'abbey', 'abbot', 'ABC', 'abet', 'able', 'aborigine']\n",
      "5059 are monomorphemic noun lemmas\n",
      "['a', 'AA', 'abbey', 'abbot', 'ABC', 'aborigine', 'Aborigine', 'absinth', 'ace', 'acetyl']\n"
     ]
    }
   ],
   "source": [
    "celex_path = \"data/wfdict.pkl\"\n",
    "\n",
    "with open(celex_path, 'rb') as f:\n",
    "    celex_dict = pkl.load(f)\n",
    "print(f\"Loaded CELEX dictionary with {len(celex_dict)} entries\")\n",
    "\n",
    "# Extract all monomorphemic noun lemmas from the CELEX dictionary\n",
    "celex_monomorph_noun_lemmas = []\n",
    "celex_monomorph_lemmas = []\n",
    "\n",
    "for word in celex_dict:\n",
    "    if celex_dict[word]['morphstatus'] == 'M' and celex_dict[word]['lemma'] == celex_dict[word]['worddia']:\n",
    "        celex_monomorph_lemmas.append(celex_dict[word]['worddia'])\n",
    "        if celex_dict[word]['class'] == 'N':\n",
    "            celex_monomorph_noun_lemmas.append(celex_dict[word]['worddia'])\n",
    "\n",
    "print(f\"{len(celex_monomorph_lemmas)} are monomorphemic lemmas\")\n",
    "print(celex_monomorph_lemmas[:10])\n",
    "print(f\"{len(celex_monomorph_noun_lemmas)} are monomorphemic noun lemmas\")\n",
    "print(celex_monomorph_noun_lemmas[:10])"
   ]
  },
  {
   "cell_type": "code",
   "execution_count": null,
   "metadata": {},
   "outputs": [],
   "source": [
    "# Import the list of selected word types for inspection\n",
    "with open(selected_words) as f:\n",
    "    words = [word.strip() for word in f.readlines()]\n",
    "\n",
    "print(f\"{len(words)} selected word types: {words}\")\n",
    "\n",
    "\n",
    "# Load the CELEX-based dictionary with word information\n",
    "with open(celex, 'rb') as f:\n",
    "    celex_dict = pkl.load(f)\n",
    "print(f\"Loaded CELEX dictionary with {len(celex_dict)} entries\") \n",
    "\n",
    "# Extract all monomorphemic and non-monomorphemic words from the CELEX dictionary\n",
    "celex_monomorph = []\n",
    "celex_nonmonomorph = []\n",
    "for word in celex_dict:\n",
    "    # Check if the word is a monomorphemic ('morphstatus':'M') \n",
    "    if celex_dict[word]['morphstatus'] == 'M':\n",
    "        celex_monomorph.append(celex_dict[word]['worddia'])\n",
    "    else:\n",
    "        celex_nonmonomorph.append(celex_dict[word]['worddia'])\n",
    "print(f\"It contains {len(celex_monomorph)} monomorphemic and {len(celex_nonmonomorph)} non-monomorphemic words\")\n",
    "\n",
    "# Define lists to classify the selected word types\n",
    "selected_monomorph_freq = []\n",
    "selected_monomorph_rd = []\n",
    "selected_nonmonomorph_freq = []\n",
    "selected_nonmonomorph_rd = []\n",
    "oov = [] # not in celex\n",
    "\n",
    "for i, word in enumerate(words):\n",
    "    if word in celex_monomorph or word.capitalize() in celex_monomorph:\n",
    "        if i < 101:\n",
    "            selected_monomorph_freq.append(word)\n",
    "        else:\n",
    "            selected_monomorph_rd.append(word)\n",
    "    elif word in celex_nonmonomorph or word.capitalize() in celex_monomorph:\n",
    "        if i < 101:\n",
    "            selected_nonmonomorph_freq.append(word)\n",
    "        else:\n",
    "            selected_nonmonomorph_rd.append(word)\n",
    "    else:\n",
    "        oov.append(word)\n",
    "\n",
    "print(f\"{len(selected_monomorph_freq)} of selected frequent words are monomorphemic\")\n",
    "print(f\"{len(selected_monomorph_rd)} of randomly selected words are monomorphemic\")\n",
    "\n",
    "print(f\"{len(selected_nonmonomorph_freq)} of selected frequent words are non-monomorphemic\")\n",
    "print(f\"{len(selected_nonmonomorph_rd)} of randomly selected words are non-monomorphemic\")\n",
    "\n",
    "print(f\"{len(oov)} word not found in the CELEX database: {oov}\")"
   ]
  }
 ],
 "metadata": {
  "kernelspec": {
   "display_name": "Python 3",
   "language": "python",
   "name": "python3"
  },
  "language_info": {
   "codemirror_mode": {
    "name": "ipython",
    "version": 3
   },
   "file_extension": ".py",
   "mimetype": "text/x-python",
   "name": "python",
   "nbconvert_exporter": "python",
   "pygments_lexer": "ipython3",
   "version": "3.9.7"
  }
 },
 "nbformat": 4,
 "nbformat_minor": 2
}
