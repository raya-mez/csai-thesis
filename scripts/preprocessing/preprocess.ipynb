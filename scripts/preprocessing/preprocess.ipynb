{
 "cells": [
  {
   "cell_type": "code",
   "execution_count": 1,
   "metadata": {},
   "outputs": [],
   "source": [
    "import os\n",
    "import bz2\n",
    "import pickle as pkl"
   ]
  },
  {
   "cell_type": "code",
   "execution_count": 2,
   "metadata": {},
   "outputs": [],
   "source": [
    "os.chdir(os.path.join(r\"C:\\Users\\Raya\\OneDrive\\Documents\\3-CSAI\\CSAI-Y3-S2\\Thesis\\csai-thesis\"))"
   ]
  },
  {
   "cell_type": "code",
   "execution_count": 15,
   "metadata": {},
   "outputs": [],
   "source": [
    "# Constants\n",
    "\n",
    "# Word ids\n",
    "wordids_compressed = os.path.join(\"models\", \"wiki_wordids.txt.bz2\")\n",
    "wordids_decompressed = os.path.join(\"models\", \"wordids.txt\")\n",
    "\n",
    "# Vocabularies\n",
    "vocab = os.path.join('data', 'vocab.pkl')\n",
    "vocab_controlled = os.path.join('data', 'vocab_controlled.pkl')\n",
    "\n",
    "# Words to inspect\n",
    "selected_words = os.path.join(\"data\", \"200_words.txt\")\n",
    "controlled_selected_words = os.path.join(\"data\", \"200_words_controlled.txt\")\n",
    "\n",
    "# Celex dictionary\n",
    "celex = os.path.join('data', 'celex_dict.pkl')\n",
    "\n",
    "# Output files\n",
    "id2word_file = os.path.join('data', 'id2word_dict.pkl')\n",
    "words_inspection_results = os.path.join('data', 'words_inspection_results.txt')"
   ]
  },
  {
   "cell_type": "code",
   "execution_count": 14,
   "metadata": {},
   "outputs": [],
   "source": [
    "# # Save a decompressed version of the wordids file\n",
    "# with bz2.open(wordids_compressed, 'rb') as f_in, open(wordids_decompressed, 'wb') as f_out:\n",
    "#     f_out.write(f_in.read())"
   ]
  },
  {
   "cell_type": "code",
   "execution_count": 6,
   "metadata": {},
   "outputs": [
    {
     "name": "stdout",
     "output_type": "stream",
     "text": [
      "The contents of the wordids file look like this:\n",
      "5545283\n",
      "16004\taa\t25827\n",
      "12579\taaa\t12305\n",
      "63127\taaaa\t999\n",
      "80933\taaas\t1594\n",
      "54701\taab\t1435\n",
      "20022\taac\t2796\n",
      "\n",
      "The id2word dictionary looks like this:\n",
      "16004 : aa\n",
      "12579 : aaa\n",
      "63127 : aaaa\n",
      "80933 : aaas\n",
      "54701 : aab\n",
      "20022 : aac\n",
      "30535 : aachen\n",
      "96694 : aacsb\n",
      "84104 : aacta\n",
      "54859 : aad\n"
     ]
    }
   ],
   "source": [
    "# Creating an id2word dictionary from the compressed file (directly)\n",
    "id2word_dict = {}\n",
    "\n",
    "# Preview the file contents\n",
    "with bz2.open(wordids_compressed, 'rt', encoding='utf-8') as f:\n",
    "    contents = f.read()\n",
    "    print(\"The contents of the wordids file look like this:\")\n",
    "    print(contents[:100])\n",
    "\n",
    "# Extract words and corresponding IDs\n",
    "with bz2.open(wordids_compressed, 'rt', encoding='utf-8') as f:    \n",
    "    first_line = True\n",
    "    for line in f:\n",
    "        if first_line:\n",
    "            first_line = False\n",
    "            continue  # Skip the first line\n",
    "        id, word, _ = line.split() # Split the line into components\n",
    "        id2word_dict[id] = word\n",
    "\n",
    "print(f\"The id2word dictionary looks like this:\")\n",
    "for i, (id, word) in enumerate(list(id2word_dict.items())[:10]):\n",
    "    print(f\"{id} : {word}\")"
   ]
  },
  {
   "cell_type": "code",
   "execution_count": 23,
   "metadata": {},
   "outputs": [
    {
     "name": "stdout",
     "output_type": "stream",
     "text": [
      "id2word_dict (saved) contains 100000 items. The first 10 are:\n",
      "16004 : aa\n",
      "12579 : aaa\n",
      "63127 : aaaa\n",
      "80933 : aaas\n",
      "54701 : aab\n",
      "20022 : aac\n",
      "30535 : aachen\n",
      "96694 : aacsb\n",
      "84104 : aacta\n",
      "54859 : aad\n"
     ]
    }
   ],
   "source": [
    "# # Save the id2word dictionary for later use\n",
    "# with open(id2word_file, 'wb') as f:\n",
    "#     pkl.dump(id2word_dict, f)\n",
    "\n",
    "with open(id2word_file, 'rb') as f:\n",
    "    id2word_dict_check = pkl.load(f)\n",
    "\n",
    "print(f\"id2word_dict (saved) contains {len(id2word_dict_check)} items. The first 10 are:\")\n",
    "for i, (id, word) in enumerate(list(id2word_dict_check.items())[:10]):\n",
    "    print(f\"{id} : {word}\")"
   ]
  },
  {
   "cell_type": "markdown",
   "metadata": {},
   "source": [
    "# Inspect words"
   ]
  },
  {
   "cell_type": "code",
   "execution_count": 25,
   "metadata": {},
   "outputs": [
    {
     "name": "stdout",
     "output_type": "stream",
     "text": [
      "100\n",
      "['chess', 'metro', 'noting', 'manila', 'santiago', 'branding', 'trade', 'miranda', 'obvious', 'alicia', 'afraid', 'biggest', 'saint', 'racer', 'bachelor', 'constituent', 'troubles', 'additionally', 'oblast', 'observing', 'manages', 'events', 'skill', 'kerry', 'channel', 'rest', 'seconds', 'investors', 'thomas', 'hermann', 'holidays', 'eye', 'kathy', 'flesh', 'prairie', 'threatened', 'brandon', 'type', 'korean', 'andrew', 'georges', 'engage', 'evaluated', 'subjects', 'bruce', 'debate', 'senator', 'testimony', 'occurring', 'tri', 'tough', 'stretched', 'bangkok', 'majority', 'acquire', 'cliffs', 'covers', 'marching', 'reported', 'improve', 'delhi', 'walking', 'covid', 'circle', 'fearing', 'copy', 'deposits', 'pennsylvania', 'recommendations', 'corpus', 'une', 'butterfly', 'accept', 'resistance', 'scorers', 'stuff', 'grove', 'whose', 'myself', 'expeditionary', 'singer', 'stream', 'arkansas', 'jul', 'definition', 'constellation', 'towards', 'dale', 'westminster', 'meters', 'faculty', 'studies', 'excited', 'traces', 'comparative', 'rome', 'dennis', 'claire', 'exact', 'walt']\n"
     ]
    }
   ],
   "source": [
    "# Load the words\n",
    "with open(selected_words, 'r') as f:\n",
    "    words_to_inspect = [word.strip() for word in f.readlines()]\n",
    "\n",
    "total_words = len(words_to_inspect)\n",
    "print(total_words)\n",
    "print(words_to_inspect)"
   ]
  },
  {
   "cell_type": "markdown",
   "metadata": {},
   "source": [
    "## Using nltk"
   ]
  },
  {
   "cell_type": "code",
   "execution_count": 7,
   "metadata": {},
   "outputs": [
    {
     "name": "stderr",
     "output_type": "stream",
     "text": [
      "[nltk_data] Downloading package words to\n",
      "[nltk_data]     C:\\Users\\Raya\\AppData\\Roaming\\nltk_data...\n",
      "[nltk_data]   Package words is already up-to-date!\n"
     ]
    }
   ],
   "source": [
    "import nltk\n",
    "# Ensure the 'words' corpus is downloaded\n",
    "nltk.download('words')\n",
    "from nltk.corpus import words"
   ]
  },
  {
   "cell_type": "code",
   "execution_count": 26,
   "metadata": {},
   "outputs": [
    {
     "name": "stdout",
     "output_type": "stream",
     "text": [
      "Ratio of invalid over valid English words (based on nltk.corpus.words): 46/100=0.46\n",
      "\n",
      "['metro', 'noting', 'santiago', 'branding', 'miranda', 'alicia', 'troubles', 'oblast', 'manages', 'events', 'seconds', 'investors', 'thomas', 'hermann', 'holidays', 'kathy', 'threatened', 'brandon', 'korean', 'andrew', 'georges', 'evaluated', 'subjects', 'bruce', 'occurring', 'stretched', 'cliffs', 'covers', 'marching', 'reported', 'delhi', 'fearing', 'deposits', 'pennsylvania', 'recommendations', 'une', 'scorers', 'arkansas', 'jul', 'westminster', 'meters', 'studies', 'traces', 'rome', 'dennis', 'claire']\n"
     ]
    }
   ],
   "source": [
    "# Access the word list from the nltk 'words' corpus\n",
    "word_list = words.words('en')\n",
    "invalid_words_nltk = [] # List to store invalid words found in the selected sample\n",
    "\n",
    "for word in words_to_inspect:\n",
    "    if word not in word_list:\n",
    "        invalid_words_nltk.append(word)\n",
    "\n",
    "# Calculate ratio of invalid words to total words\n",
    "ratio = len(invalid_words_nltk) / len(words_to_inspect)\n",
    "\n",
    "print(f\"Ratio of invalid over valid English words (based on nltk.corpus.words): {len(invalid_words_nltk)}/{total_words}={ratio}\\n\")\n",
    "print(invalid_words_nltk)\n",
    "\n",
    "# NOTE: many valid words are classified as invalid. We need a larger word list or we will resort to manual inspection."
   ]
  },
  {
   "cell_type": "markdown",
   "metadata": {},
   "source": [
    "## Using pyenchant"
   ]
  },
  {
   "cell_type": "code",
   "execution_count": 28,
   "metadata": {},
   "outputs": [
    {
     "name": "stdout",
     "output_type": "stream",
     "text": [
      "Ratio of invalid over valid English words (based on pyenchant): 25/100=0.46\n",
      "\n",
      "['santiago', 'miranda', 'alicia', 'kerry', 'thomas', 'hermann', 'kathy', 'brandon', 'korean', 'andrew', 'georges', 'bruce', 'tri', 'bangkok', 'delhi', 'covid', 'pennsylvania', 'une', 'arkansas', 'jul', 'westminster', 'rome', 'dennis', 'claire', 'walt']\n"
     ]
    }
   ],
   "source": [
    "import enchant\n",
    "\n",
    "english_dict = enchant.Dict(\"en_US\")\n",
    "invalid_words_enchant = []\n",
    "\n",
    "for word in words_to_inspect:\n",
    "    if not english_dict.check(word):\n",
    "        invalid_words_enchant.append(word)\n",
    "\n",
    "print(f\"Ratio of invalid over valid English words (based on pyenchant): {len(invalid_words_enchant)}/{total_words}={ratio}\\n\")\n",
    "print(invalid_words_enchant)\n",
    "\n",
    "# NOTE: We see that most of the words classified as invalid are names\n",
    "# The other words are: 'tri' and 'une'"
   ]
  },
  {
   "cell_type": "markdown",
   "metadata": {},
   "source": [
    "## Using CELEX - for morphological status"
   ]
  },
  {
   "cell_type": "code",
   "execution_count": null,
   "metadata": {},
   "outputs": [],
   "source": [
    "# Import the list of selected word types for inspection\n",
    "with open(selected_words) as f:\n",
    "    words = [word.strip() for word in f.readlines()]\n",
    "\n",
    "print(f\"{len(words)} selected word types: {words}\")\n",
    "\n",
    "\n",
    "# Load the CELEX-based dictionary with word information\n",
    "with open(celex, 'rb') as f:\n",
    "    celex_dict = pkl.load(f)\n",
    "print(f\"Loaded CELEX dictionary with {len(celex_dict)} entries\") \n",
    "\n",
    "# Extract all monomorphemic and non-monomorphemic words from the CELEX dictionary\n",
    "celex_monomorph = []\n",
    "celex_nonmonomorph = []\n",
    "for word in celex_dict:\n",
    "    # Check if the word is a monomorphemic ('morphstatus':'M') \n",
    "    if celex_dict[word]['morphstatus'] == 'M':\n",
    "        celex_monomorph.append(celex_dict[word]['worddia'])\n",
    "    else:\n",
    "        celex_nonmonomorph.append(celex_dict[word]['worddia'])\n",
    "print(f\"It contains {len(celex_monomorph)} monomorphemic and {len(celex_nonmonomorph)} non-monomorphemic words\")\n",
    "\n",
    "# Define lists to classify the selected word types\n",
    "selected_monomorph_freq = []\n",
    "selected_monomorph_rd = []\n",
    "selected_nonmonomorph_freq = []\n",
    "selected_nonmonomorph_rd = []\n",
    "oov = [] # not in celex\n",
    "\n",
    "for i, word in enumerate(words):\n",
    "    if word in celex_monomorph or word.capitalize() in celex_monomorph:\n",
    "        if i < 101:\n",
    "            selected_monomorph_freq.append(word)\n",
    "        else:\n",
    "            selected_monomorph_rd.append(word)\n",
    "    elif word in celex_nonmonomorph or word.capitalize() in celex_monomorph:\n",
    "        if i < 101:\n",
    "            selected_nonmonomorph_freq.append(word)\n",
    "        else:\n",
    "            selected_nonmonomorph_rd.append(word)\n",
    "    else:\n",
    "        oov.append(word)\n",
    "\n",
    "print(f\"{len(selected_monomorph_freq)} of selected frequent words are monomorphemic\")\n",
    "print(f\"{len(selected_monomorph_rd)} of randomly selected words are monomorphemic\")\n",
    "\n",
    "print(f\"{len(selected_nonmonomorph_freq)} of selected frequent words are non-monomorphemic\")\n",
    "print(f\"{len(selected_nonmonomorph_rd)} of randomly selected words are non-monomorphemic\")\n",
    "\n",
    "print(f\"{len(oov)} word not found in the CELEX database: {oov}\")"
   ]
  }
 ],
 "metadata": {
  "kernelspec": {
   "display_name": "Python 3",
   "language": "python",
   "name": "python3"
  },
  "language_info": {
   "codemirror_mode": {
    "name": "ipython",
    "version": 3
   },
   "file_extension": ".py",
   "mimetype": "text/x-python",
   "name": "python",
   "nbconvert_exporter": "python",
   "pygments_lexer": "ipython3",
   "version": "3.9.7"
  }
 },
 "nbformat": 4,
 "nbformat_minor": 2
}
