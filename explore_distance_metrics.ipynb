{
 "cells": [
  {
   "cell_type": "code",
   "execution_count": 1,
   "metadata": {},
   "outputs": [],
   "source": [
    "import distance_funcs\n",
    "import numpy as np\n",
    "from os import chdir\n",
    "from sklearn.metrics.pairwise import cosine_similarity as sklearn_cosine_similarity"
   ]
  },
  {
   "cell_type": "code",
   "execution_count": 2,
   "metadata": {},
   "outputs": [],
   "source": [
    "chdir(\"c:/Users/Raya/OneDrive/Documents/3-CSAI/CSAI-Y3-S2/Thesis/Replication\")"
   ]
  },
  {
   "cell_type": "code",
   "execution_count": 4,
   "metadata": {},
   "outputs": [],
   "source": [
    "TOY_VECTS = np.array([np.array(([1.0,-2.0,3.0])), np.array(([-4.0,5.0,6.0])), np.array(([7.0,8.0,-9.0]))])\n",
    "TOY_WORDS = ['cup', 'cat', 'dog']"
   ]
  },
  {
   "cell_type": "code",
   "execution_count": 9,
   "metadata": {},
   "outputs": [
    {
     "name": "stdout",
     "output_type": "stream",
     "text": [
      "First 10 ids: [3576 4501 3327 1102 1650  240 5480 4211 4321 6761]\n",
      "First 10 words: ['league' 'album' 'game' 'party' 'women' 'church' 'song' 'station' 'town'\n",
      " 'president']\n",
      "First 10 vectors:\n",
      "[[ 1.13337643e-01  1.40484904e-01  3.74122065e-01 ...  2.33168057e-03\n",
      "  -7.16891078e-03 -8.52921721e-03]\n",
      " [ 1.50450789e-01 -4.31291522e-01  8.04129079e-03 ... -9.17724888e-03\n",
      "   2.34008918e-03 -1.49247768e-03]\n",
      " [ 7.16353961e-02  2.09700719e-02  1.00467108e-01 ...  5.39575412e-03\n",
      "  -3.49315731e-05 -2.24411586e-03]\n",
      " ...\n",
      " [ 9.01282158e-02  5.79194661e-02 -1.28253646e-01 ...  1.16877488e-02\n",
      "   1.31945628e-02 -2.23398991e-03]\n",
      " [ 6.85584396e-02  6.90132216e-02 -6.92020170e-02 ...  4.36430862e-03\n",
      "   3.91536325e-03 -7.95992962e-03]\n",
      " [ 5.07194125e-02  2.83445260e-02 -1.18512292e-02 ... -2.41039906e-04\n",
      "   6.70018938e-03 -6.51316655e-04]]\n",
      "vectors is a <class 'numpy.ndarray'>\n",
      "vectors shape: (100, 500)\n"
     ]
    }
   ],
   "source": [
    "data = np.load(\"data/sample_word_vects.npz\", allow_pickle=True)\n",
    "ids = data['ids']\n",
    "words = data['words']\n",
    "vectors = data['vectors']\n",
    "\n",
    "print(f\"First 10 ids: {ids[:10]}\")\n",
    "print(f\"First 10 words: {words[:10]}\")\n",
    "print(f\"First 10 vectors:\\n{vectors[:10]}\")\n",
    "print(f\"vectors is a {type(vectors)}\")\n",
    "print(f\"vectors shape: {vectors.shape}\")"
   ]
  },
  {
   "cell_type": "code",
   "execution_count": 10,
   "metadata": {},
   "outputs": [
    {
     "name": "stdout",
     "output_type": "stream",
     "text": [
      "<class 'numpy.ndarray'>\n",
      "Sample of 4 vectors we will test on:\n",
      "[[ 1.13337643e-01  1.40484904e-01  3.74122065e-01 ...  2.33168057e-03\n",
      "  -7.16891078e-03 -8.52921721e-03]\n",
      " [ 1.50450789e-01 -4.31291522e-01  8.04129079e-03 ... -9.17724888e-03\n",
      "   2.34008918e-03 -1.49247768e-03]\n",
      " [ 7.16353961e-02  2.09700719e-02  1.00467108e-01 ...  5.39575412e-03\n",
      "  -3.49315731e-05 -2.24411586e-03]\n",
      " [ 6.90431803e-02  4.47305974e-02 -3.26518431e-02 ...  3.23385872e-03\n",
      "  -2.32367157e-03  7.55563937e-03]]\n",
      "Words: ['league' 'album' 'game' 'party']\n"
     ]
    }
   ],
   "source": [
    "# Sample the first 4 vectors and print the words they encode\n",
    "\n",
    "vects = vectors[:4]\n",
    "print(type(vects[0]))\n",
    "print(f\"Sample of 4 vectors we will test on:\\n{vects}\")\n",
    "\n",
    "print(f\"Words: {words[:4]}\")"
   ]
  },
  {
   "cell_type": "code",
   "execution_count": 5,
   "metadata": {},
   "outputs": [
    {
     "name": "stdout",
     "output_type": "stream",
     "text": [
      "[[ 1.00000000e+00  1.06149259e-03  1.47369851e-03 -6.10924970e-03]\n",
      " [ 1.06149259e-03  1.00000000e+00 -3.92126062e-03  2.43641758e-04]\n",
      " [ 1.47369851e-03 -3.92126062e-03  1.00000000e+00  2.38907739e-03]\n",
      " [-6.10924970e-03  2.43641758e-04  2.38907739e-03  1.00000000e+00]]\n",
      "Min: -0.006109249695510285\n",
      "Max: 1.0000000000000004\n",
      "Values range from -1 to 1: False\n"
     ]
    }
   ],
   "source": [
    "# Reference: cosine similarities using sklearn's function\n",
    "sk_cos_sim = sklearn_cosine_similarity(vects)\n",
    "print(sk_cos_sim)\n",
    "\n",
    "print(f\"Values range from -1 to 1: {distance_funcs.check_value_range(sk_cos_sim, -1, 1)}\")"
   ]
  },
  {
   "cell_type": "code",
   "execution_count": 6,
   "metadata": {},
   "outputs": [
    {
     "name": "stdout",
     "output_type": "stream",
     "text": [
      "[[ 1.0000000e+00  1.0614926e-03  1.4736985e-03 -6.1092497e-03]\n",
      " [ 1.0614926e-03  1.0000000e+00 -3.9212606e-03  2.4364180e-04]\n",
      " [ 1.4736985e-03 -3.9212606e-03  1.0000000e+00  2.3890774e-03]\n",
      " [-6.1092497e-03  2.4364180e-04  2.3890774e-03  1.0000000e+00]]\n",
      "(4, 4)\n",
      "Min: -0.0061092497\n",
      "Max: 1.0\n",
      "Values range from -1 to 1: True\n"
     ]
    }
   ],
   "source": [
    "cos_sim_matrix = distance_funcs.cosine_similarities_matrix(vects)\n",
    "print(cos_sim_matrix)\n",
    "\n",
    "print(cos_sim_matrix.shape)\n",
    "\n",
    "print(f\"Values range from -1 to 1: {distance_funcs.check_value_range(cos_sim_matrix, -1, 1)}\")"
   ]
  },
  {
   "cell_type": "code",
   "execution_count": 7,
   "metadata": {},
   "outputs": [
    {
     "name": "stdout",
     "output_type": "stream",
     "text": [
      "[[0.         0.99893851 0.9985263  1.00610925]\n",
      " [0.99893851 0.         1.00392126 0.99975636]\n",
      " [0.9985263  1.00392126 0.         0.99761092]\n",
      " [1.00610925 0.99975636 0.99761092 0.        ]]\n",
      "Min: 0.0\n",
      "Max: 1.0061092497\n",
      "Values range from 0 to 2: True\n"
     ]
    }
   ],
   "source": [
    "cos_dist_matrix_basic = distance_funcs.cosine_distances_matrix(vects)\n",
    "\n",
    "print(cos_dist_matrix_basic)\n",
    "print(f\"Values range from 0 to 2: {distance_funcs.check_value_range(cos_dist_matrix_basic, 0, 2)}\")"
   ]
  },
  {
   "cell_type": "code",
   "execution_count": 8,
   "metadata": {},
   "outputs": [
    {
     "name": "stdout",
     "output_type": "stream",
     "text": [
      "[[0.         0.49946925 0.49926315 0.50305462]\n",
      " [0.49946925 0.         0.50196063 0.49987818]\n",
      " [0.49926315 0.50196063 0.         0.49880546]\n",
      " [0.50305462 0.49987818 0.49880546 0.        ]]\n",
      "Min: 0.0\n",
      "Max: 0.5030546248500001\n",
      "Values range from 0 to 1: True\n"
     ]
    }
   ],
   "source": [
    "cos_dist_matrix_map = distance_funcs.cosine_distances_matrix(vects, rescaling='norm_cos_sim')\n",
    "\n",
    "print(cos_dist_matrix_map)\n",
    "print(f\"Values range from 0 to 1: {distance_funcs.check_value_range(cos_dist_matrix_map, 0, 1)}\")"
   ]
  },
  {
   "cell_type": "code",
   "execution_count": 9,
   "metadata": {},
   "outputs": [
    {
     "name": "stdout",
     "output_type": "stream",
     "text": [
      "[[0.         0.49966212 0.49953091 0.50194465]\n",
      " [0.49966212 0.         0.50124818 0.49992245]\n",
      " [0.49953091 0.50124818 0.         0.49923953]\n",
      " [0.50194465 0.49992245 0.49923953 0.        ]]\n",
      "Min: 0.0\n",
      "Max: 0.5019446466734558\n",
      "Values range from 0 to 1: True\n"
     ]
    }
   ],
   "source": [
    "cos_dist_matrix_ang = distance_funcs.cosine_distances_matrix(vects, rescaling='angular_dist')\n",
    "\n",
    "print(cos_dist_matrix_ang)\n",
    "print(f\"Values range from 0 to 1: {distance_funcs.check_value_range(cos_dist_matrix_ang, 0, 1)}\")"
   ]
  },
  {
   "cell_type": "code",
   "execution_count": 10,
   "metadata": {},
   "outputs": [
    {
     "name": "stdout",
     "output_type": "stream",
     "text": [
      "[1.00119135 1.00087204 1.00001949 1.00115884]\n",
      "[0.50059568 0.50043602 0.50000975 0.50057942]\n",
      "[0.50037922 0.50027758 0.50000621 0.50036888]\n"
     ]
    }
   ],
   "source": [
    "avg_cos_dist_basic = distance_funcs.average_distances(cos_dist_matrix_basic)\n",
    "print(avg_cos_dist_basic) # Note: range is [0-2], so values >1 are normal\n",
    "\n",
    "avg_cos_dist_map = distance_funcs.average_distances(cos_dist_matrix_map)\n",
    "print(avg_cos_dist_map)\n",
    "\n",
    "avg_cos_dist_ang = distance_funcs.average_distances(cos_dist_matrix_ang)\n",
    "print(avg_cos_dist_ang)"
   ]
  },
  {
   "cell_type": "code",
   "execution_count": 3,
   "metadata": {},
   "outputs": [
    {
     "name": "stdout",
     "output_type": "stream",
     "text": [
      "`vecs` is a: <class 'numpy.ndarray'>\n",
      "It looks like this:\n",
      "[[ 1. -2.  3.]\n",
      " [-4.  5.  6.]\n",
      " [ 7.  8. -9.]]\n",
      "Vector 0 is: [ 1. -2.  3.]\n",
      "Vector 1 is: [-4.  5.  6.]\n",
      "Vector 2 is: [ 7.  8. -9.]\n",
      "\n",
      "Cosine similarity matrix:\n",
      "[[ 1.          0.12182898 -0.6907766 ]\n",
      " [ 0.12182898  1.         -0.34363949]\n",
      " [-0.6907766  -0.34363949  1.        ]]\n",
      "\n",
      "Cosine distances raw:\n",
      "[[0.         0.87817102 1.6907766 ]\n",
      " [0.87817102 0.         1.34363949]\n",
      " [1.6907766  1.34363949 0.        ]]\n",
      "\n",
      "Cosine distances 'abs_cos_sim':\n",
      "[[0.         0.87817102 0.3092234 ]\n",
      " [0.87817102 0.         0.65636051]\n",
      " [0.3092234  0.65636051 0.        ]]\n",
      "\n",
      "Cosine distances 'norm_cos_sim':\n",
      "[[0.         0.43908551 0.8453883 ]\n",
      " [0.43908551 0.         0.67181974]\n",
      " [0.8453883  0.67181974 0.        ]]\n",
      "\n",
      "Cosine distances 'angular_dist':\n",
      "[[0.         0.46112406 0.74273119]\n",
      " [0.46112406 0.         0.61165982]\n",
      " [0.74273119 0.61165982 0.        ]]\n",
      "\n"
     ]
    }
   ],
   "source": [
    "# Testing cos sim and dist functions on toy arrays\n",
    "\n",
    "vecs = np.array([np.array(([1.0,-2.0,3.0])), np.array(([-4.0,5.0,6.0])), np.array(([7.0,8.0,-9.0]))])\n",
    "print(f\"`vecs` is a: {type(vecs)}\")\n",
    "print(f\"It looks like this:\\n{vecs}\")\n",
    "for i, v in enumerate(vecs):\n",
    "    print(f\"Vector {i} is: {v}\")\n",
    "\n",
    "print()\n",
    "cos_sim_mx = distance_funcs.cosine_similarities_matrix(vecs)\n",
    "print(f\"Cosine similarity matrix:\\n{cos_sim_mx}\\n\")\n",
    "\n",
    "cos_dist_mx_raw = distance_funcs.cosine_distances_matrix(vecs, rescaling=None)\n",
    "print(f\"Cosine distances raw:\\n{cos_dist_mx_raw}\\n\")\n",
    "\n",
    "cos_dist_mx_abs = distance_funcs.cosine_distances_matrix(vecs, rescaling='abs_cos_sim')\n",
    "print(f\"Cosine distances 'abs_cos_sim':\\n{cos_dist_mx_abs}\\n\")\n",
    "\n",
    "cos_dist_mx_norm = distance_funcs.cosine_distances_matrix(vecs, rescaling='norm_cos_sim')\n",
    "print(f\"Cosine distances 'norm_cos_sim':\\n{cos_dist_mx_norm}\\n\")\n",
    "\n",
    "cos_dist_mx_ang = distance_funcs.cosine_distances_matrix(vecs, rescaling='angular_dist')\n",
    "print(f\"Cosine distances 'angular_dist':\\n{cos_dist_mx_ang}\\n\")"
   ]
  },
  {
   "cell_type": "code",
   "execution_count": 6,
   "metadata": {},
   "outputs": [
    {
     "name": "stdout",
     "output_type": "stream",
     "text": [
      "Edit distances for list of words of different lengths (symmetric=True):\n",
      "[[0. 5. 4.]\n",
      " [5. 0. 5.]\n",
      " [4. 5. 0.]]\n",
      "Symmetric: True\n",
      "\n",
      "Edit distances for list of words of different lengths (symmetric=False):\n",
      "[[0. 5. 4.]\n",
      " [5. 0. 5.]\n",
      " [4. 5. 0.]]\n",
      "Symmetric: True\n",
      "\n",
      "Edit distances for list of words of same length (symmetric=True):\n",
      "[[0. 2. 3.]\n",
      " [2. 0. 3.]\n",
      " [3. 3. 0.]]\n",
      "Symmetric: True\n",
      "\n",
      "Edit distances for list of words of same length (symmetric=False):\n",
      "[[0. 2. 3.]\n",
      " [2. 0. 3.]\n",
      " [3. 3. 0.]]\n",
      "Symmetric: True\n"
     ]
    }
   ],
   "source": [
    "# Testing function for edit distance matrix on toy example\n",
    "\n",
    "words_diff_length = ['apple', 'banana', 'pear']\n",
    "words_same_length = ['cup', 'cat', 'dog']\n",
    "\n",
    "edit_dist_mx_diff_length_sym = distance_funcs.edit_distances_matrix(words_diff_length, symmetric=True)\n",
    "print(f\"Edit distances for list of words of different lengths (symmetric=True):\\n{edit_dist_mx_diff_length_sym}\")\n",
    "print(f\"Symmetric: {distance_funcs.is_symmetric(edit_dist_mx_diff_length_sym)}\\n\")\n",
    "\n",
    "edit_dist_mx_diff_length_non_sym = distance_funcs.edit_distances_matrix(words_diff_length, symmetric=False)\n",
    "print(f\"Edit distances for list of words of different lengths (symmetric=False):\\n{edit_dist_mx_diff_length_non_sym}\")\n",
    "print(f\"Symmetric: {distance_funcs.is_symmetric(edit_dist_mx_diff_length_non_sym)}\\n\")\n",
    "\n",
    "\n",
    "edit_dist_mx_same_length_sym = distance_funcs.edit_distances_matrix(words_same_length, symmetric=True)\n",
    "print(f\"Edit distances for list of words of same length (symmetric=True):\\n{edit_dist_mx_same_length_sym}\")\n",
    "print(f\"Symmetric: {distance_funcs.is_symmetric(edit_dist_mx_same_length_sym)}\\n\")\n",
    "\n",
    "edit_dist_mx_same_length_non_sym = distance_funcs.edit_distances_matrix(words_same_length, symmetric=False)\n",
    "print(f\"Edit distances for list of words of same length (symmetric=False):\\n{edit_dist_mx_same_length_non_sym}\")\n",
    "print(f\"Symmetric: {distance_funcs.is_symmetric(edit_dist_mx_same_length_non_sym)}\")\n",
    "\n",
    "# NOTE: since all edit costs are equal, all matrices are symmetric"
   ]
  },
  {
   "cell_type": "code",
   "execution_count": 11,
   "metadata": {},
   "outputs": [
    {
     "name": "stdout",
     "output_type": "stream",
     "text": [
      "--- Rescaling: none ---\n",
      "Cosine distances:\n",
      "[[0.         0.87817102 1.6907766 ]\n",
      " [0.87817102 0.         1.34363949]\n",
      " [1.6907766  1.34363949 0.        ]]\n",
      "\n",
      "Edit distances:\n",
      "[[0. 2. 3.]\n",
      " [2. 0. 3.]\n",
      " [3. 3. 0.]]\n",
      "\n",
      "--- Rescaling: abs ---\n",
      "Cosine distances:\n",
      "[[0.         0.87817102 0.3092234 ]\n",
      " [0.87817102 0.         0.65636051]\n",
      " [0.3092234  0.65636051 0.        ]]\n",
      "\n",
      "Edit distances:\n",
      "[[0. 2. 3.]\n",
      " [2. 0. 3.]\n",
      " [3. 3. 0.]]\n",
      "\n",
      "--- Rescaling: norm ---\n",
      "Cosine distances:\n",
      "[[0.         0.43908551 0.8453883 ]\n",
      " [0.43908551 0.         0.67181974]\n",
      " [0.8453883  0.67181974 0.        ]]\n",
      "\n",
      "Edit distances:\n",
      "[[0. 2. 3.]\n",
      " [2. 0. 3.]\n",
      " [3. 3. 0.]]\n",
      "\n",
      "--- Rescaling: ang ---\n",
      "Cosine distances:\n",
      "[[0.         0.46112406 0.74273119]\n",
      " [0.46112406 0.         0.61165982]\n",
      " [0.74273119 0.61165982 0.        ]]\n",
      "\n",
      "Edit distances:\n",
      "[[0. 2. 3.]\n",
      " [2. 0. 3.]\n",
      " [3. 3. 0.]]\n",
      "\n"
     ]
    }
   ],
   "source": [
    "# Test distances computation scripts\n",
    "\n",
    "# Define rescaling options for cosine distance\n",
    "rescaling_options = {\n",
    "    'none': None,\n",
    "    'abs': 'abs_cos_sim',\n",
    "    'norm': 'norm_cos_sim',\n",
    "    'ang': 'angular_dist'\n",
    "}\n",
    "\n",
    "# --------------- Computing distances ---------------\n",
    "for rescaling, rescaling_string in rescaling_options.items():\n",
    "    print(f\"--- Rescaling: {rescaling} ---\")\n",
    "    # Fetch LSA vectors for the words in the vocabulary of the current length\n",
    "    vects = TOY_VECTS\n",
    "    \n",
    "    # Compute cosine distances\n",
    "    cosine_distances = distance_funcs.cosine_distances_matrix(vects, rescaling=rescaling_string)\n",
    "    print(f\"Cosine distances:\\n{cosine_distances}\\n\")\n",
    "        \n",
    "    words = TOY_WORDS\n",
    "    edit_distances = distance_funcs.edit_distances_matrix(words)\n",
    "    print(f\"Edit distances:\\n{edit_distances}\\n\")"
   ]
  },
  {
   "cell_type": "code",
   "execution_count": 13,
   "metadata": {},
   "outputs": [
    {
     "data": {
      "text/plain": [
       "5"
      ]
     },
     "execution_count": 13,
     "metadata": {},
     "output_type": "execute_result"
    }
   ],
   "source": [
    "def compute_gls(X, Y, gamma_func, alphabet):\n",
    "    \"\"\"\n",
    "    Compute the Generalized Levenshtein Similarity (GLS) between two strings X and Y.\n",
    "\n",
    "    Parameters:\n",
    "        X, Y: str\n",
    "            The strings between which the GLS is to be computed.\n",
    "        gamma_func: function\n",
    "            A function that takes two characters as input and returns the cost of transforming\n",
    "            one character into another.\n",
    "        alphabet: list or set\n",
    "            The alphabet from which the characters are drawn.\n",
    "\n",
    "    Returns:\n",
    "        float\n",
    "            The computed Generalized Levenshtein Similarity between X and Y.\n",
    "    \"\"\"\n",
    "    # Compute alpha using the provided gamma function and alphabet\n",
    "    alpha = compute_alpha(gamma_func, alphabet)\n",
    "\n",
    "    # Compute Generalized Levenshtein Distance between X and Y\n",
    "    gld = gls(X, Y, gamma_func)\n",
    "\n",
    "    # Calculate GLS using the formula\n",
    "    gls = (alpha * (len(X) + len(Y)) - gld) / 2\n",
    "\n",
    "    return gls"
   ]
  },
  {
   "cell_type": "code",
   "execution_count": 14,
   "metadata": {},
   "outputs": [
    {
     "name": "stdout",
     "output_type": "stream",
     "text": [
      "4\n"
     ]
    }
   ],
   "source": [
    "import numpy as np\n",
    "\n",
    "def cost_func(X, Y):\n",
    "    return 1\n",
    "\n",
    "def generalized_levenshtein_distance(source, target, cost_func=cost_func):\n",
    "    \"\"\"\n",
    "    Compute Generalized Levenshtein Distance (GLD) between two strings.\n",
    "    \n",
    "    Parameters:\n",
    "        X, Y (str): The strings between which the GLD is to be computed.\n",
    "        cost_func (func): A function that takes two characters as input and returns the cost of transforming\n",
    "            one character into another.\n",
    "\n",
    "    Returns:\n",
    "        int: The computed Generalized Levenshtein Distance between X and Y.\n",
    "    \"\"\"    \n",
    "    n, m = len(source), len(target)\n",
    "    dist_matrix = np.zeros((n+1, m+1), dtype=int)\n",
    "    \n",
    "    if costs == None:\n",
    "        costs = {'deletion': 1, 'insertion': 1, 'substitution': 1}\n",
    "    \n",
    "    # Initialize the matrix: the zeroth row and column is the distance from the empty string\n",
    "    dist_matrix[0][0] = 0\n",
    "    for i in range(1, n+1):\n",
    "        dist_matrix[i][0] = dist_matrix[i-1][0] + 1 # deletion\n",
    "    for j in range(1, m+1):\n",
    "        dist_matrix[0][j] = dist_matrix[0][j-1] + 1 # insertion\n",
    "    \n",
    "    # Dynamic programming\n",
    "    for i in range(1, n+1):\n",
    "        for j in range(1, m+1):\n",
    "            if source[i-1] == target[j-1]:\n",
    "                dist_matrix[i][j] = dist_matrix[i-1][j-1]\n",
    "            else:\n",
    "                dist_matrix[i][j] = min(dist_matrix[i-1][j] + costs['deletion'], # deletion\n",
    "                                        dist_matrix[i][j-1] + costs['insertion'], # insertion\n",
    "                                        dist_matrix[i-1][j-1] + costs['substitution']) # substitution\n",
    "    \n",
    "    return int(dist_matrix[n][m])\n",
    "\n",
    "\n",
    "def compute_alpha(gamma_func, alphabet):\n",
    "    \"\"\"\n",
    "    Compute the value of alpha for a given alphabet and gamma function.\n",
    "\n",
    "    Parameters:\n",
    "        gamma_func: function\n",
    "            A function that takes two characters as input and returns the cost of transforming\n",
    "            one character into another.\n",
    "        alphabet: list or set\n",
    "            The alphabet from which the characters are drawn.\n",
    "\n",
    "    Returns:\n",
    "        float\n",
    "            The computed value of alpha.\n",
    "    \"\"\"\n",
    "    max_gamma_insert = max(gamma_func(a, '\\0') for a in alphabet)\n",
    "    max_gamma_delete = max(gamma_func('\\0', b) for b in alphabet)\n",
    "    max_char = max(alphabet)\n",
    "    \n",
    "    return max(max_gamma_insert, max_gamma_delete, max_char)\n",
    "\n",
    "\n",
    "source = 'mast'\n",
    "target = 'ports'\n",
    "print(generalized_levenshtein_distance(source, target))"
   ]
  }
 ],
 "metadata": {
  "kernelspec": {
   "display_name": "Python 3",
   "language": "python",
   "name": "python3"
  },
  "language_info": {
   "codemirror_mode": {
    "name": "ipython",
    "version": 3
   },
   "file_extension": ".py",
   "mimetype": "text/x-python",
   "name": "python",
   "nbconvert_exporter": "python",
   "pygments_lexer": "ipython3",
   "version": "3.9.7"
  }
 },
 "nbformat": 4,
 "nbformat_minor": 2
}
